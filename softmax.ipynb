{
 "cells": [
  {
   "cell_type": "code",
   "execution_count": 7,
   "metadata": {},
   "outputs": [],
   "source": [
    "import numpy as np\n",
    "from sklearn.datasets import load_digits\n",
    "from sklearn.model_selection import train_test_split, KFold\n",
    "import matplotlib.pyplot as plt\n",
    "import torch\n",
    "import torch.nn as nn\n",
    "import torch.nn.functional as F\n",
    "import torch.optim as optim\n",
    "from torchvision import datasets, transforms"
   ]
  },
  {
   "cell_type": "code",
   "execution_count": 8,
   "metadata": {},
   "outputs": [],
   "source": [
    "\n",
    "class SoftmaxRegression:\n",
    "    def __init__(self, learning_rate=0.1, num_iters=250, batch_size=1, sgd=False, alpha=0.001):\n",
    "        '''\n",
    "        Parameters\n",
    "        ----------\n",
    "        lr : learning rate of your optimizer.\n",
    "        num_iters : number of iterations to run the optimizer.\n",
    "        sgd : Indicates which optimizer is used, False -> GD, True -> SGD.\n",
    "        alpha : Weight of the regularization (L2) term in the loss.\n",
    "        '''\n",
    "        self.learning_rate = learning_rate\n",
    "        self.num_iters = num_iters\n",
    "        self.sgd = sgd\n",
    "        self.alpha = alpha\n",
    "        self.batch_size = batch_size\n",
    "        self.weights = None\n",
    "        self.bias = None\n",
    "        self.training_progress = None\n",
    "        self.training_batch_progress = None\n",
    "        self.test_progress = None\n",
    "\n",
    "    def ce_loss(self, y_hat, y):\n",
    "        '''\n",
    "        Parameters\n",
    "        ----------\n",
    "        y_hat: array of predicted probabilities of size [num_samples, num_classes]\n",
    "        y: array of true one-hot vectors of size [num_samples, num_classes]\n",
    "        '''\n",
    "        return -np.mean(y * np.log(y_hat))\n",
    "\n",
    "\n",
    "    def softmax(self, logits):\n",
    "        '''\n",
    "        Parameters\n",
    "        ----------\n",
    "        logits: array of logits of size [num_samples, num_classes]\n",
    "\n",
    "        Logits are unnormalized predictions (scores) from the model. These can not be interpreted as probabilities.\n",
    "        Softmax converts these logits to probabilities.\n",
    "        '''\n",
    "        exps = np.exp(logits)\n",
    "        return exps / np.sum(exps, axis=1, keepdims=True)\n",
    "\n",
    "    def fit(self, X, y, tX=None, ty=None):\n",
    "        '''\n",
    "        Parameters\n",
    "        ----------\n",
    "        X: array of inputs of size [num_samples, num_features]\n",
    "        y: array of targets of size [num_samples]\n",
    "\n",
    "        Start by initializing appropriate weights.\n",
    "        Calculate one-hot encodings of the targets.\n",
    "        Compute the gradient at each training iteration using cross-entropy loss.\n",
    "        Update weights and biases. Repeat for num_iters.\n",
    "\n",
    "        NOTE: You need to implement both GD and SGD on the basis of self.sgd flag.\n",
    "        '''\n",
    "        num_samples, num_features = X.shape\n",
    "        num_classes = len(np.unique(y))\n",
    "        y_hot = np.zeros((len(y), num_classes))\n",
    "        for i in range(len(y)):\n",
    "            y_hot[i, y[i]] = 1\n",
    "        if ty is not None:\n",
    "            ty_hot = np.zeros((len(ty), num_classes))\n",
    "            for i in range(len(ty)):\n",
    "                ty_hot[i, ty[i]] = 1\n",
    "\n",
    "        # initialize weights and bias\n",
    "        self.weights = np.random.randn(num_features, num_classes)\n",
    "        # self.weights = np.zeros((num_features, num_classes))\n",
    "        self.bias = np.zeros((num_classes,))\n",
    "\n",
    "        # For saving losses.\n",
    "        self.training_progress = np.zeros(self.num_iters)\n",
    "        self.training_batch_progress = np.zeros(self.num_iters)\n",
    "        if tX is not None:\n",
    "            self.test_progress = np.zeros(self.num_iters)\n",
    "\n",
    "        for iter in range(self.num_iters):\n",
    "\n",
    "            batchX = X\n",
    "            batchy = y_hot\n",
    "\n",
    "            # Training set loss.\n",
    "            scores = np.dot(batchX, self.weights) + self.bias\n",
    "            probs = self.softmax(scores)\n",
    "            self.training_progress[iter] = self.ce_loss(probs, batchy)\n",
    "\n",
    "            if self.sgd:\n",
    "                batch_inds = np.random.choice(len(X), self.batch_size, replace=False)\n",
    "                batchX = X[batch_inds, :]\n",
    "                batchy = y_hot[batch_inds]\n",
    "\n",
    "            scores = np.dot(batchX, self.weights) + self.bias\n",
    "            probs = self.softmax(scores)\n",
    "\n",
    "            # Batch loss (for sgd, batch = sample).\n",
    "            self.training_batch_progress[iter] = self.ce_loss(probs, batchy)\n",
    "\n",
    "            # calculate cross entropy loss and gradients\n",
    "            if tX is not None:\n",
    "              tscores = np.dot(tX, self.weights) + self.bias\n",
    "              tprobs = self.softmax(tscores)\n",
    "              self.test_progress[iter] = self.ce_loss(tprobs, ty_hot)\n",
    "\n",
    "            d_scores = probs - batchy\n",
    "            d_weights = np.dot(batchX.T, d_scores) / batchX.shape[0] + self.alpha * np.linalg.norm(self.weights)\n",
    "            d_bias = np.sum(d_scores, axis=0) / d_scores.shape[0] + self.alpha * np.linalg.norm(self.bias)\n",
    "\n",
    "            # update weights and bias\n",
    "            self.weights -= self.learning_rate * d_weights\n",
    "            self.bias -= self.learning_rate * d_bias\n",
    "\n",
    "    def predict(self, X):\n",
    "        '''\n",
    "        Parameters\n",
    "        ----------\n",
    "        X: array of inputs of size [num_samples, num_features]\n",
    "\n",
    "        Use trained model to compute predictions for given inputs.\n",
    "        '''\n",
    "        scores = np.dot(X, self.weights) + self.bias\n",
    "        probs = self.softmax(scores)\n",
    "        return np.argmax(probs, axis=1)\n",
    "\n",
    "    def score(self, X, y):\n",
    "        '''\n",
    "        Parameters\n",
    "        ----------\n",
    "        X: array of inputs of size [num_samples, num_features]\n",
    "        y: array of targets of size [num_samples]\n",
    "\n",
    "        Use trained model to compute predictions for given inputs. Use the provided labels to compute accuracy.\n",
    "        '''\n",
    "        scores = np.dot(X, self.weights) + self.bias\n",
    "        probs = self.softmax(scores)\n",
    "        return np.count_nonzero(np.argmax(probs, axis=1) == y) / len(y)\n",
    "    \n",
    "    def fgsm_adversarial_example(self, X, y, epsilon=0.1):\n",
    "        num_samples, _ = X.shape\n",
    "        adv_X = np.copy(X)\n",
    "\n",
    "        for i in range(num_samples):\n",
    "            # Compute gradients of loss w.r.t. input\n",
    "            x = X[i:i+1, :]  # select one sample at a time\n",
    "            y_hot = np.zeros((1, self.weights.shape[1]))\n",
    "            y_hot[0, y[i]] = 1  # one-hot encoding of true label\n",
    "            scores = np.dot(x, self.weights) + self.bias\n",
    "            probs = self.softmax(scores)\n",
    "            loss = self.ce_loss(probs, y_hot)\n",
    "            grad = np.dot(self.weights, (probs - y_hot).T).T  # gradient w.r.t input\n",
    "\n",
    "            # Create adversarial example\n",
    "            adv_x = x + epsilon * np.sign(grad)\n",
    "            adv_x = np.clip(adv_x, 0, 1)  # Ensure the adversarial example remains within the valid input range\n",
    "            adv_X[i] = adv_x\n",
    "\n",
    "        return adv_X"
   ]
  },
  {
   "cell_type": "code",
   "execution_count": 9,
   "metadata": {},
   "outputs": [],
   "source": [
    "digits = load_digits()\n",
    "X_train, X_test, y_train, y_test = train_test_split(digits.data, digits.target, test_size=0.1)"
   ]
  },
  {
   "cell_type": "code",
   "execution_count": 10,
   "metadata": {},
   "outputs": [],
   "source": [
    "clf = SoftmaxRegression(learning_rate=0.1)\n",
    "clf.fit(X_train, y_train, X_test, y_test)\n",
    "gd_progress = clf.training_progress\n",
    "gd_tprogress = clf.test_progress"
   ]
  },
  {
   "cell_type": "code",
   "execution_count": 11,
   "metadata": {},
   "outputs": [
    {
     "name": "stdout",
     "output_type": "stream",
     "text": [
      "Original Accuracy: 0.8666666666666667\n",
      "Adversarial Example Accuracy: 0.49444444444444446\n"
     ]
    }
   ],
   "source": [
    "adv_examples = clf.fgsm_adversarial_example(X_test, y_test, epsilon=0.01)\n",
    "original_predictions = clf.predict(X_test)\n",
    "adv_predictions = clf.predict(adv_examples)\n",
    "original_accuracy = clf.score(X_test, y_test)\n",
    "adv_accuracy = clf.score(adv_examples, y_test)\n",
    "\n",
    "print(\"Original Accuracy:\", original_accuracy)\n",
    "print(\"Adversarial Example Accuracy:\", adv_accuracy)"
   ]
  },
  {
   "cell_type": "code",
   "execution_count": 12,
   "metadata": {},
   "outputs": [
    {
     "data": {
      "text/plain": [
       "Text(0.5, 1.0, 'Predicted Label 8, Confidence 0.49444')"
      ]
     },
     "execution_count": 12,
     "metadata": {},
     "output_type": "execute_result"
    },
    {
     "data": {
      "image/png": "[encoded data removed]",
      "text/plain": [
       "<Figure size 640x480 with 1 Axes>"
      ]
     },
     "metadata": {},
     "output_type": "display_data"
    },
    {
     "data": {
      "image/png": "[encoded data removed]",
      "text/plain": [
       "<Figure size 640x480 with 1 Axes>"
      ]
     },
     "metadata": {},
     "output_type": "display_data"
    }
   ],
   "source": [
    "plt.imshow(digits.images[int(original_predictions[0])])\n",
    "plt.title(f\"True Label {original_predictions[0]}\")\n",
    "\n",
    "plt.figure()\n",
    "plt.imshow(digits.images[int(original_predictions[0])])\n",
    "plt.title(f\"Predicted Label {adv_predictions[0]}, Confidence {adv_accuracy:.5f}\")"
   ]
  },
  {
   "cell_type": "markdown",
   "metadata": {},
   "source": [
    "### As we can see, the adversarial example is misclassified and the accuracy is much lower. "
   ]
  }
 ],
 "metadata": {
  "kernelspec": {
   "display_name": "base",
   "language": "python",
   "name": "python3"
  },
  "language_info": {
   "codemirror_mode": {
    "name": "ipython",
    "version": 3
   },
   "file_extension": ".py",
   "mimetype": "text/x-python",
   "name": "python",
   "nbconvert_exporter": "python",
   "pygments_lexer": "ipython3",
   "version": "3.8.5"
  }
 },
 "nbformat": 4,
 "nbformat_minor": 2
}
