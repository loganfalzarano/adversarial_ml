{
 "cells": [
  {
   "cell_type": "code",
   "execution_count": 1,
   "metadata": {},
   "outputs": [],
   "source": [
    "import torch\n",
    "import torch.nn as nn\n",
    "import torch.nn.functional as F\n",
    "import torch.optim as optim\n",
    "from torchvision import datasets, transforms\n",
    "import numpy as np\n",
    "import matplotlib.pyplot as plt"
   ]
  },
  {
   "cell_type": "code",
   "execution_count": 2,
   "metadata": {},
   "outputs": [],
   "source": [
    "device = torch.device(\"mps\" if torch.backends.mps.is_available() else \"cpu\")"
   ]
  },
  {
   "cell_type": "code",
   "execution_count": 3,
   "metadata": {},
   "outputs": [],
   "source": [
    "#load the mnist dataset\n",
    "mnist_train = datasets.MNIST('./data', train=True, download=True, transform=transforms.ToTensor())\n",
    "mnist_test = datasets.MNIST('./data', train=False, download=True, transform=transforms.ToTensor())"
   ]
  },
  {
   "cell_type": "code",
   "execution_count": 4,
   "metadata": {},
   "outputs": [],
   "source": [
    "#reduc the dataset to 1000 samples\n",
    "mnist_train.data = mnist_train.data[:6000]\n",
    "mnist_train.targets = mnist_train.targets[:6000]"
   ]
  },
  {
   "cell_type": "code",
   "execution_count": 5,
   "metadata": {},
   "outputs": [],
   "source": [
    "#reduce mnist test to 100 samples\n",
    "mnist_test.data = mnist_test.data[:100]\n",
    "mnist_test.targets = mnist_test.targets[:100]"
   ]
  },
  {
   "cell_type": "code",
   "execution_count": 6,
   "metadata": {},
   "outputs": [
    {
     "name": "stdout",
     "output_type": "stream",
     "text": [
      "Training set size:  5000\n"
     ]
    }
   ],
   "source": [
    "#split the training set into a training and validation set\n",
    "mnist_train, mnist_val = torch.utils.data.random_split(mnist_train, [5000, 1000])\n",
    "print(\"Training set size: \", len(mnist_train))"
   ]
  },
  {
   "cell_type": "code",
   "execution_count": 8,
   "metadata": {},
   "outputs": [],
   "source": [
    "#create train and test loaders\n",
    "train_loader = torch.utils.data.DataLoader(mnist_train, batch_size=1, shuffle=True)\n",
    "val_loader = torch.utils.data.DataLoader(mnist_val, batch_size=1, shuffle=False)\n",
    "test_loader = torch.utils.data.DataLoader(mnist_test, batch_size=1, shuffle=False)"
   ]
  },
  {
   "cell_type": "code",
   "execution_count": null,
   "metadata": {},
   "outputs": [],
   "source": [
    "#create a cnn architecture\n",
    "class AttackCNN(nn.Module):\n",
    "  def __init__(self):\n",
    "    super(AttackCNN, self).__init__()\n",
    "    self.conv1 = nn.Conv2d(1, 32, 3, 1)\n",
    "    self.conv2 = nn.Conv2d(32, 64, 3, 1)\n",
    "    self.dropout1 = nn.Dropout2d(0.25)\n",
    "    self.dropout2 = nn.Dropout2d(0.5)\n",
    "    self.fc1 = nn.Linear(9216, 128)\n",
    "    self.fc2 = nn.Linear(128, 10)\n",
    "\n",
    "  def forward(self, x):\n",
    "    x = self.conv1(x)\n",
    "    x = F.relu(x)\n",
    "    x = self.conv2(x)\n",
    "    x = F.relu(x)\n",
    "    x = F.max_pool2d(x, 2)\n",
    "    x = self.dropout1(x)\n",
    "    x = torch.flatten(x, 1)\n",
    "    x = self.fc1(x)\n",
    "    x = F.relu(x)\n",
    "    x = self.dropout2(x)\n",
    "    x = self.fc2(x)\n",
    "    x = F.log_softmax(x, dim=1) #take log softmax here to use NLLLoss\n",
    "    return x"
   ]
  },
  {
   "cell_type": "code",
   "execution_count": null,
   "metadata": {},
   "outputs": [],
   "source": [
    "#create the model\n",
    "attack_model = AttackCNN()\n",
    "attack_model.to(device)\n",
    "teacher_optimizer = optim.Adam(attack_model.parameters(), lr=0.0001)\n",
    "teacher_loss = nn.NLLLoss()"
   ]
  },
  {
   "cell_type": "code",
   "execution_count": null,
   "metadata": {},
   "outputs": [],
   "source": [
    "def train_attack_model(model, train_dataloader, val_loader, optimizer, loss_fn, num_epochs, CUDA=False, print_accs=True):\n",
    "\n",
    "    traing_accs = []\n",
    "    test_accs = []\n",
    "    \n",
    "    train_losses = []\n",
    "    val_losses = []\n",
    "\n",
    "    for epoch in range(1, num_epochs+1):\n",
    "        train_loss_per_epoch = 0\n",
    "        val_loss_per_epoch = 0\n",
    "        model.train()\n",
    "        # Write training loop here\n",
    "        for i, (X, y) in enumerate(train_dataloader):\n",
    "            \n",
    "            #send data to gpu\n",
    "            X = X.to(device)\n",
    "            y = y.to(device)\n",
    "\n",
    "            optimizer.zero_grad()\n",
    "            y_pred = model(X)\n",
    "            \n",
    "            loss = loss_fn(y_pred, y)\n",
    "            \n",
    "            loss.backward()\n",
    "            optimizer.step()\n",
    "            \n",
    "            train_loss_per_epoch += loss.item()\n",
    "        \n",
    "        train_losses.append(train_loss_per_epoch)\n",
    "        \n",
    "        # Calculate training accuracy\n",
    "        model.eval()\n",
    "        correct = 0\n",
    "        total = 0\n",
    "        with torch.no_grad():\n",
    "            for X, y in train_dataloader:\n",
    "                X = X.to(device)\n",
    "                y = y.to(device)\n",
    "\n",
    "                y_pred = model(X)\n",
    "                \n",
    "                _, predicted = torch.max(y_pred.data, 1)\n",
    "                total += y.size(0)\n",
    "                correct += (predicted == y).sum().item()\n",
    "                \n",
    "        #print(f\"Epoch {epoch}, Training Accuracy: {correct / total}\")\n",
    "        traing_accs.append(correct / total)\n",
    "        \n",
    "        # Calculate test accuracy\n",
    "        model.eval()\n",
    "        correct = 0\n",
    "        total = 0\n",
    "        with torch.no_grad():\n",
    "            for X, y in val_loader:\n",
    "                X = X.to(device)\n",
    "                y = y.to(device)\n",
    "\n",
    "                y_pred = model(X)\n",
    "                \n",
    "                _, predicted = torch.max(y_pred.data, 1)\n",
    "                total += y.size(0)\n",
    "                correct += (predicted == y).sum().item()\n",
    "                \n",
    "                val_loss_per_epoch += loss_fn(y_pred, y).item()\n",
    "        \n",
    "        val_losses.append(val_loss_per_epoch)\n",
    "                \n",
    "        #print(f\"Epoch {epoch}, Accuracy: {correct / total}\")\n",
    "        if print_accs:\n",
    "            print(f\"Epoch {epoch}, Training Accuracy: {traing_accs[-1]}, Validation Accuracy: {correct / total}, Training Loss: {train_loss_per_epoch}, Validation Loss: {val_loss_per_epoch}\")\n",
    "        \n",
    "        test_accs.append(correct / total)\n",
    "        # Do not forget to use model.train() and model.eval() before training and evaluation loops respectively.\n",
    "    return traing_accs, test_accs, train_losses, val_losses\n",
    "    "
   ]
  },
  {
   "cell_type": "code",
   "execution_count": null,
   "metadata": {},
   "outputs": [],
   "source": [
    "#train the attack model\n",
    "traing_accs, test_accs, train_losses, val_losses = train_attack_model(teacher_model, train_loader, val_loader, teacher_optimizer, teacher_loss, 10)"
   ]
  },
  {
   "cell_type": "code",
   "execution_count": null,
   "metadata": {},
   "outputs": [],
   "source": [
    "#plot the training and validation loss and training and validation accuracy in one 2,1 subplot\n",
    "\n",
    "fig, ax = plt.subplots(1, 2, figsize=(20, 5))\n",
    "\n",
    "ax[0].plot(train_losses, label=\"Training Loss\")\n",
    "ax[0].plot(val_losses, label=\"Validation Loss\")\n",
    "ax[0].set_xlabel(\"Epoch\")\n",
    "ax[0].set_ylabel(\"Loss\")\n",
    "ax[0].legend()\n",
    "\n",
    "ax[1].plot(traing_accs, label=\"Training Accuracy\")\n",
    "ax[1].plot(test_accs, label=\"Validation Accuracy\")\n",
    "ax[1].set_xlabel(\"Epoch\")\n",
    "ax[1].set_ylabel(\"Accuracy\")\n",
    "plt.legend()\n",
    "plt.show()"
   ]
  },
  {
   "cell_type": "code",
   "execution_count": 9,
   "metadata": {},
   "outputs": [],
   "source": [
    "class DefenseTeacher(nn.Module):\n",
    "  def __init__(self):\n",
    "    super(DefenseTeacher, self).__init__()\n",
    "    self.conv1 = nn.Conv2d(1, 32, 3, 1)\n",
    "    self.conv2 = nn.Conv2d(32, 64, 3, 1)\n",
    "    self.dropout1 = nn.Dropout2d(0.25)\n",
    "    self.dropout2 = nn.Dropout2d(0.5)\n",
    "    self.fc1 = nn.Linear(9216, 128)\n",
    "    self.fc2 = nn.Linear(128, 10)\n",
    "\n",
    "  def forward(self, x):\n",
    "    x = self.conv1(x)\n",
    "    x = F.relu(x)\n",
    "    x = self.conv2(x)\n",
    "    x = F.relu(x)\n",
    "    x = F.max_pool2d(x, 2)\n",
    "    x = self.dropout1(x)\n",
    "    x = torch.flatten(x, 1)\n",
    "    x = self.fc1(x)\n",
    "    x = F.relu(x)\n",
    "    x = self.dropout2(x)\n",
    "    x = self.fc2(x)\n",
    "    return x\n"
   ]
  },
  {
   "cell_type": "code",
   "execution_count": 10,
   "metadata": {},
   "outputs": [],
   "source": [
    "def train_defense_model(model, train_dataloader, val_loader, optimizer, loss_fn, num_epochs, CUDA=False, print_accs=True):\n",
    "    temp = 100\n",
    "    \n",
    "    traing_accs = []\n",
    "    test_accs = []\n",
    "    \n",
    "    train_losses = []\n",
    "    val_losses = []\n",
    "\n",
    "    for epoch in range(1, num_epochs+1):\n",
    "        train_loss_per_epoch = 0\n",
    "        val_loss_per_epoch = 0\n",
    "        model.train()\n",
    "        # Write training loop here\n",
    "        for i, (X, y) in enumerate(train_dataloader):\n",
    "            \n",
    "            #send data to gpu\n",
    "            X = X.to(device)\n",
    "            y = y.to(device)\n",
    "\n",
    "            optimizer.zero_grad()\n",
    "            y_pred = model(X)\n",
    "            \n",
    "            #apply temperature scaling\n",
    "            y_pred = y_pred / temp\n",
    "            #apply softmax\n",
    "            y_pred = F.log_softmax(y_pred, dim=1)\n",
    "            \n",
    "            loss = loss_fn(y_pred, y)\n",
    "            \n",
    "            loss.backward()\n",
    "            optimizer.step()\n",
    "            \n",
    "            train_loss_per_epoch += loss.item()\n",
    "        \n",
    "        train_losses.append(train_loss_per_epoch)\n",
    "        \n",
    "        # Calculate training accuracy\n",
    "        model.eval()\n",
    "        correct = 0\n",
    "        total = 0\n",
    "        with torch.no_grad():\n",
    "            for X, y in train_dataloader:\n",
    "                X = X.to(device)\n",
    "                y = y.to(device)\n",
    "\n",
    "                y_pred = model(X)\n",
    "                \n",
    "                _, predicted = torch.max(y_pred.data, 1)\n",
    "                total += y.size(0)\n",
    "                correct += (predicted == y).sum().item()\n",
    "                \n",
    "        #print(f\"Epoch {epoch}, Training Accuracy: {correct / total}\")\n",
    "        traing_accs.append(correct / total)\n",
    "        \n",
    "        # Calculate test accuracy\n",
    "        model.eval()\n",
    "        correct = 0\n",
    "        total = 0\n",
    "        with torch.no_grad():\n",
    "            for X, y in val_loader:\n",
    "                X = X.to(device)\n",
    "                y = y.to(device)\n",
    "\n",
    "                y_pred = model(X)\n",
    "                \n",
    "                _, predicted = torch.max(y_pred.data, 1)\n",
    "                total += y.size(0)\n",
    "                correct += (predicted == y).sum().item()\n",
    "                \n",
    "                val_loss_per_epoch += loss_fn(y_pred, y).item()\n",
    "        \n",
    "        val_losses.append(val_loss_per_epoch)\n",
    "                \n",
    "        #print(f\"Epoch {epoch}, Accuracy: {correct / total}\")\n",
    "        if print_accs:\n",
    "            print(f\"Epoch {epoch}, Training Accuracy: {traing_accs[-1]}, Validation Accuracy: {correct / total}, Training Loss: {train_loss_per_epoch}, Validation Loss: {val_loss_per_epoch}\")\n",
    "        \n",
    "        test_accs.append(correct / total)\n",
    "        # Do not forget to use model.train() and model.eval() before training and evaluation loops respectively.\n",
    "    return traing_accs, test_accs, train_losses, val_losses\n",
    "    \n",
    "    "
   ]
  },
  {
   "cell_type": "code",
   "execution_count": 11,
   "metadata": {},
   "outputs": [],
   "source": [
    "#define defense teacher model\n",
    "defense_teacher_model = DefenseTeacher()\n",
    "defense_teacher_model.to(device)\n",
    "defense_teacher_optimizer = optim.Adam(defense_teacher_model.parameters(), lr=0.0001)\n",
    "defense_teacher_loss = nn.NLLLoss()"
   ]
  },
  {
   "cell_type": "code",
   "execution_count": 12,
   "metadata": {},
   "outputs": [
    {
     "name": "stderr",
     "output_type": "stream",
     "text": [
      "/Users/loganfalzarano/anaconda3/envs/mlma/lib/python3.10/site-packages/torch/nn/functional.py:1347: UserWarning: dropout2d: Received a 2-D input to dropout2d, which is deprecated and will result in an error in a future release. To retain the behavior and silence this warning, please use dropout instead. Note that dropout2d exists to provide channel-wise dropout on inputs with 2 spatial dimensions, a channel dimension, and an optional batch dimension (i.e. 3D or 4D inputs).\n",
      "  warnings.warn(warn_msg)\n"
     ]
    },
    {
     "name": "stdout",
     "output_type": "stream",
     "text": [
      "Epoch 1, Training Accuracy: 0.8712, Validation Accuracy: 0.833, Training Loss: 5641.322774712626, Validation Loss: -353997.9824114144\n",
      "Epoch 2, Training Accuracy: 0.8996, Validation Accuracy: 0.863, Training Loss: 2791.4757954503502, Validation Loss: -446839.3640667796\n",
      "Epoch 3, Training Accuracy: 0.9154, Validation Accuracy: 0.887, Training Loss: 2326.0137528206005, Validation Loss: -479675.06481951475\n",
      "Epoch 4, Training Accuracy: 0.9268, Validation Accuracy: 0.893, Training Loss: 2149.989363430447, Validation Loss: -530065.3668103218\n",
      "Epoch 5, Training Accuracy: 0.938, Validation Accuracy: 0.911, Training Loss: 1941.8235094436036, Validation Loss: -520508.09547936916\n",
      "Epoch 6, Training Accuracy: 0.9352, Validation Accuracy: 0.897, Training Loss: 1814.4897272206058, Validation Loss: -521471.3683452606\n",
      "Epoch 7, Training Accuracy: 0.9476, Validation Accuracy: 0.917, Training Loss: 1646.248330664549, Validation Loss: -505090.7571554184\n",
      "Epoch 8, Training Accuracy: 0.9492, Validation Accuracy: 0.908, Training Loss: 1601.1502575346672, Validation Loss: -539731.3354513645\n",
      "Epoch 9, Training Accuracy: 0.9574, Validation Accuracy: 0.912, Training Loss: 1492.583518359325, Validation Loss: -533534.7000403404\n",
      "Epoch 10, Training Accuracy: 0.9556, Validation Accuracy: 0.913, Training Loss: 1477.8889005345864, Validation Loss: -564032.1205425262\n"
     ]
    }
   ],
   "source": [
    "#train the teacher model\n",
    "traing_accs, test_accs, train_losses, val_losses = train_defense_model(defense_teacher_model, train_loader, val_loader, defense_teacher_optimizer, defense_teacher_loss, 10)"
   ]
  },
  {
   "cell_type": "code",
   "execution_count": 12,
   "metadata": {},
   "outputs": [
    {
     "data": {
      "image/png": "[encoded data removed]",
      "text/plain": [
       "<Figure size 2000x500 with 2 Axes>"
      ]
     },
     "metadata": {},
     "output_type": "display_data"
    }
   ],
   "source": [
    "fig, ax = plt.subplots(1, 2, figsize=(20, 5))\n",
    "\n",
    "ax[0].plot(train_losses, label=\"Training Loss\")\n",
    "ax[0].plot(val_losses, label=\"Validation Loss\")\n",
    "ax[0].set_xlabel(\"Epoch\")\n",
    "ax[0].set_ylabel(\"Loss\")\n",
    "ax[0].legend()\n",
    "\n",
    "ax[1].plot(traing_accs, label=\"Training Accuracy\")\n",
    "ax[1].plot(test_accs, label=\"Validation Accuracy\")\n",
    "ax[1].set_xlabel(\"Epoch\")\n",
    "ax[1].set_ylabel(\"Accuracy\")\n",
    "plt.legend()\n",
    "plt.show()"
   ]
  },
  {
   "cell_type": "code",
   "execution_count": 13,
   "metadata": {},
   "outputs": [
    {
     "data": {
      "image/png": "[encoded data removed]",
      "text/plain": [
       "<Figure size 2000x600 with 10 Axes>"
      ]
     },
     "metadata": {},
     "output_type": "display_data"
    }
   ],
   "source": [
    "#valdate the output of the teacher model\n",
    "\n",
    "#create 5 x 2 subplot\n",
    "fig, ax = plt.subplots(2, 5, figsize=(20, 6))\n",
    "\n",
    "for X, y in train_loader:\n",
    "    X = X.to(device)\n",
    "    y = y.to(device)\n",
    "    y_pred = defense_teacher_model(X)\n",
    "    \n",
    "    #plot the first 5 images and their predictions\n",
    "    for i in range(5):\n",
    "        ax[0, i].imshow(X[i].cpu().numpy().reshape(28, 28), cmap='gray')\n",
    "        #plot the predicted probability distribution\n",
    "        ax[1, i].bar(range(10), y_pred[i].cpu().detach().numpy())\n",
    "    break"
   ]
  },
  {
   "cell_type": "code",
   "execution_count": 14,
   "metadata": {},
   "outputs": [],
   "source": [
    "import torch\n",
    "from torch.utils.data import Dataset\n",
    "\n",
    "class TeacherOutputDataset(Dataset):\n",
    "    def __init__(self, images, teacher_probs, labels):\n",
    "        self.images = images\n",
    "        self.teacher_probs = teacher_probs\n",
    "        self.labels = labels\n",
    "\n",
    "    def __getitem__(self, index):\n",
    "        image = self.images[index]\n",
    "        teacher_prob = self.teacher_probs[index]\n",
    "        label = self.labels[index]\n",
    "        return image, teacher_prob, label\n",
    "\n",
    "    def __len__(self):\n",
    "        return len(self.images)\n"
   ]
  },
  {
   "cell_type": "code",
   "execution_count": 15,
   "metadata": {},
   "outputs": [],
   "source": [
    "#Create a new dataset with the teacher model predictions\n",
    "\n",
    "def create_teach_model_dataset(teacher_model) -> torch.utils.data.TensorDataset:\n",
    "    teacher_model.eval()\n",
    "    teacher_input = []\n",
    "    teacher_predicted_probailities = []\n",
    "    true_labels = []\n",
    "    with torch.no_grad():\n",
    "        for X, y in train_loader:\n",
    "            X = X.to(device)\n",
    "            y.to(device)\n",
    "            y_pred = teacher_model(X)\n",
    "            y_pred = F.log_softmax(y_pred, dim=1)\n",
    "            #normilize the probabilities\n",
    "            teacher_input.append(X)\n",
    "            teacher_predicted_probailities.append(y_pred)\n",
    "            true_labels.append(y)\n",
    "\n",
    "    teacher_input = torch.cat(teacher_input)\n",
    "    teacher_predicted_probailities = torch.cat(teacher_predicted_probailities)\n",
    "    true_labels = torch.cat(true_labels)\n",
    "    \n",
    "    #create the custom dataset\n",
    "    teacher_dataset = TeacherOutputDataset(teacher_input, teacher_predicted_probailities, true_labels)\n",
    "    \n",
    "    #create the loader\n",
    "    teacher_loader = torch.utils.data.DataLoader(teacher_dataset, batch_size=1, shuffle=True)\n",
    "    \n",
    "    return teacher_dataset, teacher_loader\n"
   ]
  },
  {
   "cell_type": "code",
   "execution_count": 16,
   "metadata": {},
   "outputs": [],
   "source": [
    "teacher_dataset, teacher_loader = create_teach_model_dataset(defense_teacher_model)"
   ]
  },
  {
   "cell_type": "code",
   "execution_count": 19,
   "metadata": {},
   "outputs": [
    {
     "data": {
      "image/png": "[encoded data removed]",
      "text/plain": [
       "<Figure size 640x480 with 1 Axes>"
      ]
     },
     "metadata": {},
     "output_type": "display_data"
    },
    {
     "data": {
      "image/png": "[encoded data removed]",
      "text/plain": [
       "<Figure size 640x480 with 1 Axes>"
      ]
     },
     "metadata": {},
     "output_type": "display_data"
    },
    {
     "name": "stdout",
     "output_type": "stream",
     "text": [
      "sum is\n",
      "-5899.0083\n",
      "[-843.28613 -697.5313  -329.5556  -232.7576  -799.8844  -577.7093\n",
      " -865.282   -925.31085    0.      -627.69086]\n",
      "tensor([-843.2861, -697.5313, -329.5556, -232.7576, -799.8844, -577.7093,\n",
      "        -865.2820, -925.3109,    0.0000, -627.6909], device='mps:0')\n",
      "tensor(8)\n"
     ]
    }
   ],
   "source": [
    "#plot the first image with the teacher model output and true label\n",
    "image_example = teacher_dataset[13]\n",
    "\n",
    "plt.imshow(image_example[0].cpu().squeeze().numpy(), cmap='gray')\n",
    "plt.show()\n",
    "\n",
    "probs = image_example[1].cpu().numpy()\n",
    "#plot the predicted probability distribution\n",
    "plt.bar(range(10), probs)\n",
    "plt.show()\n",
    "\n",
    "#sum of hte probs should be 1\n",
    "print(\"sum is\")\n",
    "print(np.sum(probs))\n",
    "\n",
    "#print the probabilities rounded to 2 decimal places\n",
    "print(np.round(probs, 6))\n",
    "\n",
    "print(image_example[1])\n",
    "print(image_example[2])\n",
    "plt.show()\n"
   ]
  },
  {
   "cell_type": "code",
   "execution_count": 20,
   "metadata": {},
   "outputs": [],
   "source": [
    "class DefenseStudent(nn.Module):\n",
    "  def __init__(self):\n",
    "    super(DefenseStudent, self).__init__()\n",
    "    self.conv1 = nn.Conv2d(1, 16, 3, 1)\n",
    "    self.conv2 = nn.Conv2d(16, 32, 3, 1)\n",
    "    self.dropout1 = nn.Dropout2d(0.25)\n",
    "    self.dropout2 = nn.Dropout2d(0.5)\n",
    "    self.fc1 = nn.Linear(4608, 64)\n",
    "    self.fc2 = nn.Linear(64, 10)\n",
    "\n",
    "  def forward(self, x):\n",
    "    x = self.conv1(x)\n",
    "    x = F.relu(x)\n",
    "    x = self.conv2(x)\n",
    "    x = F.relu(x)\n",
    "    x = F.max_pool2d(x, 2)\n",
    "    x = self.dropout1(x)\n",
    "    x = torch.flatten(x, 1)\n",
    "    x = self.fc1(x)\n",
    "    x = F.relu(x)\n",
    "    x = self.dropout2(x)\n",
    "    x = self.fc2(x)\n",
    "    x = F.softmax(x, dim=1)\n",
    "    return x"
   ]
  },
  {
   "cell_type": "code",
   "execution_count": 21,
   "metadata": {},
   "outputs": [],
   "source": [
    "#create student model\n",
    "student_model = DefenseStudent()\n",
    "student_model.to(device)\n",
    "student_optimizer = optim.Adam(student_model.parameters(), lr=0.0001)\n",
    "student_loss = nn.NLLLoss()"
   ]
  },
  {
   "cell_type": "code",
   "execution_count": 24,
   "metadata": {},
   "outputs": [],
   "source": [
    "def train_model_student(model, train_dataloader, test_dataloader, optimizer, loss_fn, num_epochs, CUDA=False, print_accs=True):\n",
    "    temp = 100\n",
    "\n",
    "    traing_accs = []\n",
    "    test_accs = []\n",
    "\n",
    "    for epoch in range(1, num_epochs+1):\n",
    "        \n",
    "        model.train()\n",
    "        # Write training loop here\n",
    "        for i, (X, y, l) in enumerate(train_dataloader):\n",
    "            \n",
    "            X = X.to(device)\n",
    "            y = y.to(device)            \n",
    "            \n",
    "            optimizer.zero_grad()\n",
    "            y_pred = model(X)\n",
    "            \n",
    "            #apply softmax\n",
    "            y_pred = F.log_softmax(y_pred / temp, dim=1)\n",
    "            \n",
    "            #squueze batch dimension\n",
    "            y = y.squeeze()\n",
    "            y_pred = y_pred.squeeze()\n",
    "            \n",
    "            #here the loss function calculates the cross entropy loss using a two probability distributions\n",
    "            loss = loss_fn(y_pred, y)\n",
    "            \n",
    "            loss.backward()\n",
    "            optimizer.step()\n",
    "\n",
    "        # Write evaluation loop(s) here\n",
    "        \n",
    "        # Calculate training accuracy\n",
    "        model.eval()\n",
    "        correct = 0\n",
    "        total = 0\n",
    "        with torch.no_grad():\n",
    "            for X, y, l in train_dataloader:\n",
    "                \n",
    "                X = X.to(device)\n",
    "                y = y.to(device)\n",
    "                \n",
    "                y_pred = model(X)\n",
    "                \n",
    "                _, predicted = torch.max(y_pred.data, 1)\n",
    "                _, true_classes = torch.max(y, dim=1)\n",
    "                \n",
    "                total += y.size(0)\n",
    "                correct += (predicted == true_classes).sum().item()\n",
    "                \n",
    "        #print(f\"Epoch {epoch}, Training Accuracy: {correct / total}\")\n",
    "        traing_accs.append(correct / total)\n",
    "        \n",
    "        # Calculate test accuracy\n",
    "        model.eval()\n",
    "        correct = 0\n",
    "        total = 0\n",
    "        with torch.no_grad():\n",
    "            for X, y in test_dataloader:\n",
    "                \n",
    "                X = X.to(device)\n",
    "                y = y.to(device)\n",
    "\n",
    "                y_pred = model(X)\n",
    "                \n",
    "                _, predicted = torch.max(y_pred.data, 1)\n",
    "                \n",
    "                total += y.size(0)\n",
    "                correct += (predicted == y).sum().item()\n",
    "                \n",
    "        #print(f\"Epoch {epoch}, Accuracy: {correct / total}\")\n",
    "        if print_accs:\n",
    "            print(f\"Epoch {epoch}, Training Accuracy: {traing_accs[-1]}, Validation Accuracy: {correct / total}\")\n",
    "        \n",
    "        test_accs.append(correct / total)\n",
    "        # Do not forget to use model.train() and model.eval() before training and evaluation loops respectively.\n",
    "    return traing_accs, test_accs\n",
    "    "
   ]
  },
  {
   "cell_type": "code",
   "execution_count": 25,
   "metadata": {},
   "outputs": [
    {
     "ename": "",
     "evalue": "",
     "output_type": "error",
     "traceback": [
      "\u001b[1;31mThe Kernel crashed while executing code in the current cell or a previous cell. \n",
      "\u001b[1;31mPlease review the code in the cell(s) to identify a possible cause of the failure. \n",
      "\u001b[1;31mClick <a href='https://aka.ms/vscodeJupyterKernelCrash'>here</a> for more info. \n",
      "\u001b[1;31mView Jupyter <a href='command:jupyter.viewOutput'>log</a> for further details."
     ]
    },
    {
     "ename": "",
     "evalue": "",
     "output_type": "error",
     "traceback": [
      "\u001b[1;31mCanceled future for execute_request message before replies were done"
     ]
    },
    {
     "ename": "",
     "evalue": "",
     "output_type": "error",
     "traceback": [
      "\u001b[1;31mCanceled future for execute_request message before replies were done. \n",
      "\u001b[1;31mView Jupyter <a href='command:jupyter.viewOutput'>log</a> for further details."
     ]
    }
   ],
   "source": [
    "#train the student model\n",
    "traing_accs, test_accs = train_model_student(student_model, teacher_loader, val_loader, student_optimizer, student_loss, 10)"
   ]
  },
  {
   "cell_type": "code",
   "execution_count": null,
   "metadata": {},
   "outputs": [],
   "source": [
    "#get first image from the training set\n",
    "image_example = teacher_dataset[44]\n",
    "\n",
    "#print the image\n",
    "plt.imshow(image_example[0].cpu().squeeze().numpy(), cmap='gray')\n",
    "plt.show()\n",
    "\n",
    "#run it through teacher to get probabilities\n",
    "defense_teacher_model.eval()\n",
    "teacher_probs = defense_teacher_model(image_example[0].unsqueeze(0).to(device))\n",
    "\n",
    "#run the same image through the student model\n",
    "student_model.eval()\n",
    "student_probs = student_model(image_example[0].unsqueeze(0).to(device))\n",
    "\n",
    "#plot the teacher and student probabilities\n",
    "fig, ax = plt.subplots(1, 2, figsize=(20, 5))\n",
    "\n",
    "ax[0].bar(range(10), teacher_probs.cpu().detach().numpy().squeeze())\n",
    "ax[0].set_title(\"Teacher Model Probabilities\")\n",
    "\n",
    "ax[1].bar(range(10), student_probs.cpu().detach().numpy().squeeze())\n",
    "ax[1].set_title(\"Student Model Probabilities\")\n",
    "\n",
    "plt.show()"
   ]
  },
  {
   "cell_type": "code",
   "execution_count": null,
   "metadata": {},
   "outputs": [],
   "source": [
    "from fgsm import create_fgsm_adversarial_example\n",
    "from fgsm import can_import"
   ]
  },
  {
   "cell_type": "code",
   "execution_count": null,
   "metadata": {},
   "outputs": [],
   "source": [
    "can_import()"
   ]
  },
  {
   "cell_type": "code",
   "execution_count": null,
   "metadata": {},
   "outputs": [],
   "source": [
    "def create_fgsm_adversarial_example(model, criterion, X, y, epsilon):\n",
    "    X.requires_grad = True\n",
    "    model.zero_grad()\n",
    "    \n",
    "    X = X.to(device)\n",
    "    X.retain_grad()\n",
    "    y = y.to(device)\n",
    "    \n",
    "    output = model(X)\n",
    "    model_prediction_unperturbed = output.argmax(dim=1)\n",
    "    prediction_confidence = F.softmax(output, dim=1).max()\n",
    "    loss = criterion(output, y)\n",
    "    loss.backward()\n",
    "    \n",
    "    x_grad = X.grad\n",
    "    x_adv = X + epsilon * x_grad.sign()\n",
    "    \n",
    "    #clamp\n",
    "    x_adv = torch.clamp(x_adv, 0, 1)\n",
    "    return model_prediction_unperturbed, prediction_confidence, x_adv"
   ]
  },
  {
   "cell_type": "code",
   "execution_count": null,
   "metadata": {},
   "outputs": [],
   "source": [
    "#get one image\n",
    "ex = teacher_dataset[8]\n",
    "X = ex[0]\n",
    "print(X)\n",
    "\n",
    "#create adversarial example\n",
    "model_prediction_unperturbed, prediction_confidence, x_adv = create_fgsm_adversarial_example(teacher_model, teacher_loss, X.unsqueeze(0), ex[2].unsqueeze(0), 0.1)\n",
    "\n",
    "#plot perturbed image\n",
    "plt.imshow(x_adv.detach().cpu().squeeze().numpy(), cmap='gray')\n",
    "\n",
    "#print max image intensity\n",
    "print(x_adv.max())"
   ]
  },
  {
   "cell_type": "code",
   "execution_count": null,
   "metadata": {},
   "outputs": [],
   "source": [
    "def fgsm_attack(image, epsilon, data_grad):\n",
    "    # Collect the element-wise sign of the data gradient\n",
    "    sign_data_grad = data_grad.sign()\n",
    "    # Create the perturbed image by adjusting each pixel of the input image\n",
    "    perturbed_image = image + epsilon*sign_data_grad\n",
    "    # Adding clipping to maintain [0,1] range\n",
    "    perturbed_image = torch.clamp(perturbed_image, 0, 1)\n",
    "    # Return the perturbed image\n",
    "    return perturbed_image"
   ]
  },
  {
   "cell_type": "code",
   "execution_count": null,
   "metadata": {},
   "outputs": [],
   "source": [
    "def evaluate_model_on_adversarial_input(model, model_criterion, test_dataloader, epsilon=0.1):\n",
    "    \n",
    "    #set batch size of 1\n",
    "    test_dataloader = torch.utils.data.DataLoader(test_dataloader.dataset, batch_size=1, shuffle=False)\n",
    "    \n",
    "    raw_image_prections = []\n",
    "    adv_image_predictions = []\n",
    "    true_labels = []\n",
    "    \n",
    "    for X, y in test_dataloader:\n",
    "        \n",
    "        X = X.to(device)\n",
    "        y = y.to(device)\n",
    "        \n",
    "        true_labels.append(y)\n",
    "        \n",
    "        #get the predictions on the raw image\n",
    "        raw_image_prediction = model(X)\n",
    "        _, raw_image_predicted = torch.max(raw_image_prediction.data, 1)\n",
    "        raw_image_prections.append(raw_image_predicted)\n",
    "        \n",
    "        #create adversarial example\n",
    "        _, _, x_adv = create_fgsm_adversarial_example(model, model_criterion, X, y, epsilon)\n",
    "        \n",
    "        #get the predictions on the adversarial image\n",
    "        adv_image_prediction = model(x_adv)\n",
    "        _, adv_image_predicted = torch.max(adv_image_prediction.data, 1)\n",
    "        adv_image_predictions.append(adv_image_predicted)\n",
    "            \n",
    "    #concatenate the predictions\n",
    "    raw_image_prections = torch.cat(raw_image_prections)\n",
    "    adv_image_predictions = torch.cat(adv_image_predictions)\n",
    "    true_labels = torch.cat(true_labels)\n",
    "                \n",
    "    return raw_image_prections, adv_image_predictions, true_labels"
   ]
  },
  {
   "cell_type": "code",
   "execution_count": null,
   "metadata": {},
   "outputs": [],
   "source": [
    "#evaluate the student model on adversarial examples\n",
    "\n",
    "raw_image_prections, adv_image_predictions, true_labels = evaluate_model_on_adversarial_input(teacher_model, teacher_loss, test_loader, epsilon=0.1)"
   ]
  },
  {
   "cell_type": "code",
   "execution_count": null,
   "metadata": {},
   "outputs": [],
   "source": [
    "#calculate the accuracy on raw and adversarial examples\n",
    "\n",
    "#convert the predictions to numpy\n",
    "raw_image_prections = raw_image_prections.cpu().numpy()\n",
    "adv_image_predictions = adv_image_predictions.cpu().numpy()\n",
    "true_labels = true_labels.cpu().numpy()"
   ]
  },
  {
   "cell_type": "code",
   "execution_count": null,
   "metadata": {},
   "outputs": [],
   "source": [
    "\n",
    "\n",
    "#calculate confusion matrices\n",
    "from sklearn.metrics import confusion_matrix\n",
    "raw_image_confusion_matrix = confusion_matrix(true_labels, raw_image_prections)\n",
    "adv_image_confusion_matrix = confusion_matrix(true_labels, adv_image_predictions)\n",
    "\n",
    "#plot the confusion matrices\n",
    "import seaborn as sns\n",
    "\n",
    "\n",
    "plt.figure(figsize=(10, 5))\n",
    "plt.subplot(1, 2, 1)\n",
    "sns.heatmap(raw_image_confusion_matrix, annot=True, fmt='g')\n",
    "plt.title('Raw Image Confusion Matrix')\n",
    "plt.subplot(1, 2, 2)\n",
    "sns.heatmap(adv_image_confusion_matrix, annot=True, fmt='g')\n",
    "plt.title('Adversarial Image Confusion Matrix')\n",
    "plt.show()\n",
    "\n",
    "\n"
   ]
  },
  {
   "cell_type": "code",
   "execution_count": null,
   "metadata": {},
   "outputs": [],
   "source": [
    "#evaluate accuracy for a range of epsilon values\n",
    "\n",
    "epsilons = [0, 0.05, 0.1, 0.15, 0.2, 0.25, 0.3, 0.4, 0.5, 0.6, 0.7, 0.8, 0.9, 1.0]\n",
    "accuracies = []\n",
    "\n",
    "for eps in epsilons:\n",
    "    raw_image_prections, adv_image_predictions, true_labels = evaluate_model_on_adversarial_input(teacher_model, teacher_loss, test_loader, epsilon=eps)\n",
    "    \n",
    "    #calculate the accuracy on raw and adversarial examples\n",
    "    raw_image_accuracy = (raw_image_prections == true_labels).sum().item() / len(true_labels)\n",
    "    adv_image_accuracy = (adv_image_predictions == true_labels).sum().item() / len(true_labels)\n",
    "    \n",
    "    accuracies.append((raw_image_accuracy, adv_image_accuracy))\n",
    "\n"
   ]
  },
  {
   "cell_type": "code",
   "execution_count": null,
   "metadata": {},
   "outputs": [],
   "source": [
    "#plot the accuracies\n",
    "plt.figure(figsize=(10, 5))\n",
    "plt.plot(epsilons, [a[0] for a in accuracies], 'b*-')\n",
    "plt.plot(epsilons, [a[1] for a in accuracies], 'r*-')\n",
    "plt.yticks(np.arange(0, 1.1, step=0.1))\n",
    "plt.title('Teacher Model Accuracy vs Epsilon')\n",
    "plt.xlabel('Epsilon')\n",
    "plt.ylabel('Accuracy')\n",
    "plt.legend(['Raw Image', 'Adversarial Image'])\n",
    "plt.show()"
   ]
  },
  {
   "cell_type": "code",
   "execution_count": null,
   "metadata": {},
   "outputs": [],
   "source": [
    "#evaluate the student model on adversarial examples\n",
    "raw_image_prections, adv_image_predictions, true_labels = evaluate_model_on_adversarial_input(student_model, student_loss, test_loader, epsilon=0.5)"
   ]
  },
  {
   "cell_type": "code",
   "execution_count": null,
   "metadata": {},
   "outputs": [],
   "source": [
    "#calculate the accuracy on raw and adversarial examples\n",
    "\n",
    "#convert the predictions to numpy\n",
    "raw_image_prections = raw_image_prections.cpu().numpy()\n",
    "adv_image_predictions = adv_image_predictions.cpu().numpy()\n",
    "true_labels = true_labels.cpu().numpy()"
   ]
  },
  {
   "cell_type": "code",
   "execution_count": null,
   "metadata": {},
   "outputs": [],
   "source": [
    "#calculate confusion matrices for sutdent model\n",
    "raw_image_confusion_matrix = confusion_matrix(true_labels, raw_image_prections)\n",
    "adv_image_confusion_matrix = confusion_matrix(true_labels, adv_image_predictions)\n",
    "\n",
    "plt.figure(figsize=(10, 5))\n",
    "plt.subplot(1, 2, 1)\n",
    "sns.heatmap(raw_image_confusion_matrix, annot=True, fmt='g')\n",
    "plt.title('Raw Image Confusion Matrix')\n",
    "plt.subplot(1, 2, 2)\n",
    "sns.heatmap(adv_image_confusion_matrix, annot=True, fmt='g')\n",
    "plt.title('Adversarial Image Confusion Matrix')\n",
    "plt.show()"
   ]
  },
  {
   "cell_type": "code",
   "execution_count": null,
   "metadata": {},
   "outputs": [],
   "source": [
    "epsilons = [0, 0.05, 0.1, 0.15, 0.2, 0.25, 0.3, 0.4, 0.5, 0.6, 0.7, 0.8, 0.9, 1.0]\n",
    "accuracies = []\n",
    "\n",
    "for eps in epsilons:\n",
    "    raw_image_prections, adv_image_predictions, true_labels = evaluate_model_on_adversarial_input(student_model, student_loss, test_loader, epsilon=eps)\n",
    "    \n",
    "    #calculate the accuracy on raw and adversarial examples\n",
    "    raw_image_accuracy = (raw_image_prections == true_labels).sum().item() / len(true_labels)\n",
    "    adv_image_accuracy = (adv_image_predictions == true_labels).sum().item() / len(true_labels)\n",
    "    \n",
    "    accuracies.append((raw_image_accuracy, adv_image_accuracy))\n",
    "    "
   ]
  },
  {
   "cell_type": "code",
   "execution_count": null,
   "metadata": {},
   "outputs": [],
   "source": [
    "#plot the accuracies\n",
    "plt.figure(figsize=(10, 5))\n",
    "plt.plot(epsilons, [a[0] for a in accuracies], 'b*-')\n",
    "plt.plot(epsilons, [a[1] for a in accuracies], 'r*-')\n",
    "plt.title('Accuracy vs Epsilon')\n",
    "plt.xlabel('Epsilon')\n",
    "plt.ylabel('Accuracy')\n",
    "plt.legend(['Raw Image', 'Adversarial Image'])\n",
    "plt.show()"
   ]
  },
  {
   "cell_type": "code",
   "execution_count": null,
   "metadata": {},
   "outputs": [],
   "source": [
    "#print first image from training set\n",
    "image_example = teacher_dataset[80]\n",
    "\n",
    "plt.imshow(image_example[0].cpu().squeeze().numpy(), cmap='gray')\n",
    "print(image_example[1])\n",
    "print(image_example[2])\n",
    "plt.show()\n",
    "\n",
    "#create adverarial example\n",
    "model_prediction_unperturbed, prediction_confidence, x_adv = create_fgsm_adversarial_example(teacher_model, teacher_loss, image_example[0].unsqueeze(0), image_example[2].unsqueeze(0), 0.9)\n",
    "\n",
    "#plot adversarial example\n",
    "plt.imshow(x_adv.detach().cpu().squeeze().numpy(), cmap='gray')\n",
    "\n",
    "#plot the difference between the original and adversarial image\n",
    "plt.imshow((x_adv - image_example[0]).detach().cpu().squeeze().numpy(), cmap='gray')\n",
    "\n"
   ]
  },
  {
   "cell_type": "markdown",
   "metadata": {},
   "source": [
    "\n",
    "\n",
    "\n",
    "\n",
    "\n",
    "\n",
    "\n",
    "\n",
    "\n",
    "\n",
    "\n",
    "\n",
    "\n",
    "\n",
    "\n",
    "\n",
    "\n",
    "\n",
    "\n",
    "\n",
    "\n",
    "\n",
    "\n",
    "\n",
    "\n",
    "\n",
    "\n",
    "\n",
    "\n",
    "\n",
    "\n",
    "\n",
    "\n",
    "\n",
    "\n",
    "\n",
    "\n",
    "\n",
    "\n",
    "\n",
    "\n",
    "\n",
    "\n",
    "\n"
   ]
  },
  {
   "cell_type": "code",
   "execution_count": null,
   "metadata": {},
   "outputs": [],
   "source": [
    "#plot the first image from the student dataset\n",
    "\n",
    "im = train_loader.dataset[0][0].squeeze().numpy()\n",
    "label = train_loader.dataset[0][1]\n",
    "plt.imshow(im, cmap='gray')\n",
    "plt.title(f'True Label: {label}')"
   ]
  },
  {
   "cell_type": "code",
   "execution_count": null,
   "metadata": {},
   "outputs": [],
   "source": []
  },
  {
   "cell_type": "code",
   "execution_count": null,
   "metadata": {},
   "outputs": [],
   "source": []
  },
  {
   "cell_type": "code",
   "execution_count": null,
   "metadata": {},
   "outputs": [],
   "source": [
    "#create an adversarial example\n",
    "input_label = train_loader.dataset[1][1]\n",
    "\n",
    "#convert y to tensor\n",
    "y_tensor = torch.tensor([input_label])\n",
    "\n",
    "print(train_loader.dataset[1][0].shape)\n",
    "print(y_tensor)\n",
    "\n",
    "model_prediction_unperturbed, prediction_confidence, x_adv = create_fgsm_adversarial_example(student_model, student_loss, test_loader.dataset[1][0], y_tensor, epsilon=0.3)\n",
    "\n",
    "\n",
    "#plot the orginal image\n",
    "plt.imshow(test_loader.dataset[1][0].squeeze().numpy(), cmap='gray')\n",
    "plt.title(f'True Label: {input_label}')\n",
    "plt.show()"
   ]
  },
  {
   "cell_type": "code",
   "execution_count": null,
   "metadata": {},
   "outputs": [],
   "source": [
    "#plot the adversarial image\n",
    "plt.imshow(x_adv.cpu().squeeze().detach().numpy(), cmap='gray')"
   ]
  },
  {
   "cell_type": "code",
   "execution_count": null,
   "metadata": {},
   "outputs": [],
   "source": [
    "print(x_adv.shape)"
   ]
  },
  {
   "cell_type": "code",
   "execution_count": null,
   "metadata": {},
   "outputs": [],
   "source": [
    "#make a prediction on the orginal image\n",
    "teacher_output = teacher_model(x_adv)\n",
    "#apply softmax\n",
    "teacher_output = F.softmax(teacher_output, dim=1)\n",
    "#convert to numpy array\n",
    "teacher_output = teacher_output.detach().numpy()\n",
    "#plot student output\n",
    "plt.bar(range(10), teacher_output[0])\n",
    "plt.xlabel('Digit')\n",
    "plt.ylabel('Probability')\n",
    "plt.title(\"Teacher Model predicted probalities\")\n",
    "plt.show()\n",
    "\n",
    "student_output = student_model(x_adv)\n",
    "# apply softmax\n",
    "student_output = F.softmax(student_output, dim=1)\n",
    "# convert to numpy array\n",
    "student_output = student_output.detach().numpy()\n",
    "\n",
    "# plot student output\n",
    "plt.bar(range(10), student_output[0])\n",
    "plt.xlabel('Digit')\n",
    "plt.ylabel('Probability')\n",
    "plt.title(\"Student Model predicted probalities\")\n",
    "plt.show()\n"
   ]
  },
  {
   "cell_type": "markdown",
   "metadata": {},
   "source": [
    "### We can see here that the teacher model incorrectly predicts class 2 for the image whereas the student model is able to correctly classify the perturbed image. This is a clear indication that the student model is more robust to adversarial attacks than the teacher model."
   ]
  },
  {
   "cell_type": "code",
   "execution_count": null,
   "metadata": {},
   "outputs": [],
   "source": []
  }
 ],
 "metadata": {
  "kernelspec": {
   "display_name": "mlma",
   "language": "python",
   "name": "python3"
  },
  "language_info": {
   "codemirror_mode": {
    "name": "ipython",
    "version": 3
   },
   "file_extension": ".py",
   "mimetype": "text/x-python",
   "name": "python",
   "nbconvert_exporter": "python",
   "pygments_lexer": "ipython3",
   "version": "3.10.12"
  }
 },
 "nbformat": 4,
 "nbformat_minor": 2
}
