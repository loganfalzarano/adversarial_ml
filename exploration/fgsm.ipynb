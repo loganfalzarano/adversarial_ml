{
 "cells": [
  {
   "cell_type": "code",
   "execution_count": 80,
   "metadata": {},
   "outputs": [],
   "source": [
    "import torch\n",
    "import torch.nn as nn\n",
    "import torch.nn.functional as F\n",
    "import torch.optim as optim\n",
    "from torchvision import datasets, transforms\n",
    "import numpy as np\n",
    "import matplotlib.pyplot as plt"
   ]
  },
  {
   "cell_type": "code",
   "execution_count": 81,
   "metadata": {},
   "outputs": [],
   "source": [
    "#load the mnist dataset\n",
    "mnist_train = datasets.MNIST('./data', train=True, download=True, transform=transforms.ToTensor())\n",
    "mnist_test = datasets.MNIST('./data', train=False, download=True, transform=transforms.ToTensor())"
   ]
  },
  {
   "cell_type": "code",
   "execution_count": 82,
   "metadata": {},
   "outputs": [],
   "source": [
    "#create train and test loaders\n",
    "train_loader = torch.utils.data.DataLoader(mnist_train, batch_size=100, shuffle=True)\n",
    "test_loader = torch.utils.data.DataLoader(mnist_test, batch_size=100, shuffle=False)"
   ]
  },
  {
   "cell_type": "code",
   "execution_count": 83,
   "metadata": {},
   "outputs": [
    {
     "data": {
      "image/png": "[encoded data removed]",
      "text/plain": [
       "<Figure size 640x480 with 10 Axes>"
      ]
     },
     "metadata": {},
     "output_type": "display_data"
    }
   ],
   "source": [
    "#visualize the dataset\n",
    "fig, ax = plt.subplots(1, 10)\n",
    "for i in range(10):\n",
    "    ax[i].imshow(mnist_train[i][0].squeeze().numpy(), cmap='gray')\n",
    "    ax[i].axis('off')"
   ]
  },
  {
   "cell_type": "code",
   "execution_count": 84,
   "metadata": {},
   "outputs": [],
   "source": [
    "#create a cnn architecture\n",
    "class MNIST_CNN(nn.Module):\n",
    "    def __init__(self):\n",
    "        super(MNIST_CNN, self).__init__()\n",
    "        self.conv1 = nn.Conv2d(1, 32, kernel_size=3)\n",
    "        self.conv2 = nn.Conv2d(32, 64, kernel_size=3)\n",
    "        self.fc1 = nn.Linear(64*5*5, 128)\n",
    "        self.fc2 = nn.Linear(128, 10)\n",
    "\n",
    "    def forward(self, x):\n",
    "        x = F.relu(self.conv1(x))\n",
    "        x = F.max_pool2d(x, kernel_size=2, stride=2)\n",
    "        x = F.relu(self.conv2(x))\n",
    "        x = F.max_pool2d(x, kernel_size=2, stride=2)\n",
    "        x = x.view(-1, 64*5*5)\n",
    "        x = F.relu(self.fc1(x))\n",
    "        x = self.fc2(x)\n",
    "        return x"
   ]
  },
  {
   "cell_type": "code",
   "execution_count": 85,
   "metadata": {},
   "outputs": [],
   "source": [
    "#create the model\n",
    "model = MNIST_CNN()\n",
    "optimizer = optim.Adam(model.parameters(), lr=0.01)\n",
    "criterion = nn.CrossEntropyLoss()"
   ]
  },
  {
   "cell_type": "code",
   "execution_count": 86,
   "metadata": {},
   "outputs": [],
   "source": [
    "def train_model(model, train_dataloader, test_dataloader, optimizer, loss_fn, num_epochs, CUDA=False, print_accs=True):\n",
    "\n",
    "    traing_accs = []\n",
    "    test_accs = []\n",
    "\n",
    "    for epoch in range(1, num_epochs+1):\n",
    "        \n",
    "        model.train()\n",
    "        # Write training loop here\n",
    "        for i, (X, y) in enumerate(train_dataloader):\n",
    "            \n",
    "            if CUDA:\n",
    "                X = X.cuda()\n",
    "                y = y.cuda()\n",
    "\n",
    "            optimizer.zero_grad()\n",
    "            y_pred = model(X)\n",
    "            \n",
    "            loss = loss_fn(y_pred, y)\n",
    "            \n",
    "            loss.backward()\n",
    "            optimizer.step()\n",
    "\n",
    "        # Write evaluation loop(s) here\n",
    "        \n",
    "        # Calculate training accuracy\n",
    "        model.eval()\n",
    "        correct = 0\n",
    "        total = 0\n",
    "        with torch.no_grad():\n",
    "            for X, y in train_dataloader:\n",
    "                if CUDA:\n",
    "                    X = X.cuda()\n",
    "                    y = y.cuda()\n",
    "\n",
    "                y_pred = model(X)\n",
    "                _, predicted = torch.max(y_pred.data, 1)\n",
    "                total += y.size(0)\n",
    "                correct += (predicted == y).sum().item()\n",
    "                \n",
    "        #print(f\"Epoch {epoch}, Training Accuracy: {correct / total}\")\n",
    "        traing_accs.append(correct / total)\n",
    "        \n",
    "        # Calculate test accuracy\n",
    "        model.eval()\n",
    "        correct = 0\n",
    "        total = 0\n",
    "        with torch.no_grad():\n",
    "            for X, y in test_dataloader:\n",
    "                if CUDA:\n",
    "                    X = X.cuda()\n",
    "                    y = y.cuda()\n",
    "\n",
    "                y_pred = model(X)\n",
    "                _, predicted = torch.max(y_pred.data, 1)\n",
    "                total += y.size(0)\n",
    "                correct += (predicted == y).sum().item()\n",
    "                \n",
    "        #print(f\"Epoch {epoch}, Accuracy: {correct / total}\")\n",
    "        if print_accs:\n",
    "            print(f\"Epoch {epoch}, Training Accuracy: {traing_accs[-1]}, Validation Accuracy: {correct / total}\")\n",
    "        \n",
    "        test_accs.append(correct / total)\n",
    "        # Do not forget to use model.train() and model.eval() before training and evaluation loops respectively.\n",
    "    return traing_accs, test_accs\n",
    "    "
   ]
  },
  {
   "cell_type": "code",
   "execution_count": 87,
   "metadata": {},
   "outputs": [
    {
     "name": "stdout",
     "output_type": "stream",
     "text": [
      "Epoch 1, Training Accuracy: 0.9672166666666666, Validation Accuracy: 0.9697\n",
      "Epoch 2, Training Accuracy: 0.9802166666666666, Validation Accuracy: 0.9798\n",
      "Epoch 3, Training Accuracy: 0.97905, Validation Accuracy: 0.9782\n",
      "Epoch 4, Training Accuracy: 0.9786666666666667, Validation Accuracy: 0.9782\n",
      "Epoch 5, Training Accuracy: 0.9824833333333334, Validation Accuracy: 0.9811\n"
     ]
    }
   ],
   "source": [
    "#train the model\n",
    "traing_accs, test_accs = train_model(model, train_loader, test_loader, optimizer, criterion, 5)"
   ]
  },
  {
   "cell_type": "code",
   "execution_count": 88,
   "metadata": {},
   "outputs": [],
   "source": [
    "def create_fgsm_adversarial_example(model, X, y, epsilon):\n",
    "    X.requires_grad = True\n",
    "    model.zero_grad()\n",
    "    output = model(X)\n",
    "    model_prediction_unperturbed = output.argmax(dim=1)\n",
    "    prediction_confidence = F.softmax(output, dim=1).max()\n",
    "    loss = criterion(output, y)\n",
    "    loss.backward()\n",
    "    x_grad = X.grad.data\n",
    "    x_adv = X + epsilon * x_grad.sign()\n",
    "    return model_prediction_unperturbed, prediction_confidence, x_adv"
   ]
  },
  {
   "cell_type": "code",
   "execution_count": 89,
   "metadata": {},
   "outputs": [
    {
     "data": {
      "image/png": "[encoded data removed]",
      "text/plain": [
       "<Figure size 640x480 with 1 Axes>"
      ]
     },
     "metadata": {},
     "output_type": "display_data"
    }
   ],
   "source": [
    "#get the first example of mnist dataset and print them\n",
    "X, y = mnist_train[0]\n",
    "#plot the image with the label\n",
    "plt.imshow(X.squeeze().numpy(), cmap='gray')\n",
    "plt.title(f\"True Label {y}\")\n",
    "plt.show()"
   ]
  },
  {
   "cell_type": "code",
   "execution_count": 90,
   "metadata": {},
   "outputs": [],
   "source": [
    "#convert y to tensor\n",
    "y = torch.tensor([y])"
   ]
  },
  {
   "cell_type": "code",
   "execution_count": 91,
   "metadata": {},
   "outputs": [
    {
     "name": "stdout",
     "output_type": "stream",
     "text": [
      "Model Prediction on Unperturbed Image: 5 with confidence 0.8140393495559692\n"
     ]
    }
   ],
   "source": [
    "#create an adversarial example using fgsm attack\n",
    "model_pred_unperturbed, prediction_confidence, perturbed_img = create_fgsm_adversarial_example(model, X, y, 0.1)\n",
    "print(f\"Model Prediction on Unperturbed Image: {model_pred_unperturbed.item()} with confidence {prediction_confidence.item()}\")\n"
   ]
  },
  {
   "cell_type": "code",
   "execution_count": 92,
   "metadata": {},
   "outputs": [],
   "source": [
    "#get the prediction of the model on the perturbed image\n",
    "model_pred_perturbed = model(perturbed_img.unsqueeze(0))\n",
    "prediction_confidence = F.softmax(model_pred_perturbed, dim=1).max().item()\n",
    "model_pred_perturbed = model_pred_perturbed.argmax(dim=1)"
   ]
  },
  {
   "cell_type": "code",
   "execution_count": 93,
   "metadata": {},
   "outputs": [
    {
     "data": {
      "image/png": "[encoded data removed]",
      "text/plain": [
       "<Figure size 640x480 with 1 Axes>"
      ]
     },
     "metadata": {},
     "output_type": "display_data"
    }
   ],
   "source": [
    "#plot the perturbed image\n",
    "plt.imshow(perturbed_img.squeeze().detach().numpy(), cmap='gray')\n",
    "plt.title(f\"Predicted Label {model_pred_perturbed.item()}, Confidence {prediction_confidence:.5f}\")\n",
    "plt.show()"
   ]
  },
  {
   "cell_type": "markdown",
   "metadata": {},
   "source": [
    "### We can see that the perturbed image has some additional noise but is still recognizeable as a 5. However, the model classifies the image as a 3 with extremely high predicted probability. This is a clear example of an adversarial attack."
   ]
  },
  {
   "cell_type": "code",
   "execution_count": null,
   "metadata": {},
   "outputs": [],
   "source": []
  }
 ],
 "metadata": {
  "kernelspec": {
   "display_name": "mlma",
   "language": "python",
   "name": "python3"
  },
  "language_info": {
   "codemirror_mode": {
    "name": "ipython",
    "version": 3
   },
   "file_extension": ".py",
   "mimetype": "text/x-python",
   "name": "python",
   "nbconvert_exporter": "python",
   "pygments_lexer": "ipython3",
   "version": "3.10.12"
  }
 },
 "nbformat": 4,
 "nbformat_minor": 2
}
