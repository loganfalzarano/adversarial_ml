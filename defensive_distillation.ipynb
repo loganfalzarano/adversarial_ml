{
 "cells": [
  {
   "cell_type": "code",
   "execution_count": 65,
   "metadata": {},
   "outputs": [],
   "source": [
    "import torch\n",
    "import torch.nn as nn\n",
    "import torch.nn.functional as F\n",
    "import torch.optim as optim\n",
    "from torchvision import datasets, transforms\n",
    "import numpy as np\n",
    "import matplotlib.pyplot as plt"
   ]
  },
  {
   "cell_type": "code",
   "execution_count": 66,
   "metadata": {},
   "outputs": [],
   "source": [
    "#load the mnist dataset\n",
    "mnist_train = datasets.MNIST('./data', train=True, download=True, transform=transforms.ToTensor())\n",
    "mnist_test = datasets.MNIST('./data', train=False, download=True, transform=transforms.ToTensor())"
   ]
  },
  {
   "cell_type": "code",
   "execution_count": 67,
   "metadata": {},
   "outputs": [],
   "source": [
    "#create train and test loaders\n",
    "train_loader = torch.utils.data.DataLoader(mnist_train, batch_size=100, shuffle=True)\n",
    "test_loader = torch.utils.data.DataLoader(mnist_test, batch_size=100, shuffle=False)"
   ]
  },
  {
   "cell_type": "code",
   "execution_count": 4,
   "metadata": {},
   "outputs": [],
   "source": [
    "#create a cnn architecture\n",
    "class Teacher_CNN(nn.Module):\n",
    "    def __init__(self):\n",
    "        super(Teacher_CNN, self).__init__()\n",
    "        self.conv1 = nn.Conv2d(1, 32, kernel_size=3)\n",
    "        self.conv2 = nn.Conv2d(32, 64, kernel_size=3)\n",
    "        self.fc1 = nn.Linear(64*5*5, 128)\n",
    "        self.fc2 = nn.Linear(128, 10)\n",
    "        #add softmax\n",
    "        self.softmax = nn.Softmax(dim=1)\n",
    "\n",
    "    def forward(self, x):\n",
    "        x = F.relu(self.conv1(x))\n",
    "        x = F.max_pool2d(x, kernel_size=2, stride=2)\n",
    "        x = F.relu(self.conv2(x))\n",
    "        x = F.max_pool2d(x, kernel_size=2, stride=2)\n",
    "        x = x.view(-1, 64*5*5)\n",
    "        x = F.relu(self.fc1(x))\n",
    "        x = self.fc2(x)\n",
    "        x = self.softmax(x)\n",
    "        return x"
   ]
  },
  {
   "cell_type": "code",
   "execution_count": 5,
   "metadata": {},
   "outputs": [],
   "source": [
    "#create the model\n",
    "teacher_model = Teacher_CNN()\n",
    "teacher_optimizer = optim.Adam(teacher_model.parameters(), lr=0.001)\n",
    "teacher_loss = nn.CrossEntropyLoss()"
   ]
  },
  {
   "cell_type": "code",
   "execution_count": 6,
   "metadata": {},
   "outputs": [],
   "source": [
    "def train_model(model, train_dataloader, test_dataloader, optimizer, loss_fn, num_epochs, CUDA=False, print_accs=True):\n",
    "\n",
    "    traing_accs = []\n",
    "    test_accs = []\n",
    "\n",
    "    for epoch in range(1, num_epochs+1):\n",
    "        \n",
    "        model.train()\n",
    "        # Write training loop here\n",
    "        for i, (X, y) in enumerate(train_dataloader):\n",
    "            \n",
    "            if CUDA:\n",
    "                X = X.cuda()\n",
    "                y = y.cuda()\n",
    "\n",
    "            optimizer.zero_grad()\n",
    "            y_pred = model(X)\n",
    "            \n",
    "            loss = loss_fn(y_pred, y)\n",
    "            \n",
    "            loss.backward()\n",
    "            optimizer.step()\n",
    "\n",
    "        # Write evaluation loop(s) here\n",
    "        \n",
    "        # Calculate training accuracy\n",
    "        model.eval()\n",
    "        correct = 0\n",
    "        total = 0\n",
    "        with torch.no_grad():\n",
    "            for X, y in train_dataloader:\n",
    "                if CUDA:\n",
    "                    X = X.cuda()\n",
    "                    y = y.cuda()\n",
    "\n",
    "                y_pred = model(X)\n",
    "                \n",
    "                _, predicted = torch.max(y_pred.data, 1)\n",
    "                total += y.size(0)\n",
    "                correct += (predicted == y).sum().item()\n",
    "                \n",
    "        #print(f\"Epoch {epoch}, Training Accuracy: {correct / total}\")\n",
    "        traing_accs.append(correct / total)\n",
    "        \n",
    "        # Calculate test accuracy\n",
    "        model.eval()\n",
    "        correct = 0\n",
    "        total = 0\n",
    "        with torch.no_grad():\n",
    "            for X, y in test_dataloader:\n",
    "                if CUDA:\n",
    "                    X = X.cuda()\n",
    "                    y = y.cuda()\n",
    "\n",
    "                y_pred = model(X)\n",
    "                \n",
    "                _, predicted = torch.max(y_pred.data, 1)\n",
    "                total += y.size(0)\n",
    "                correct += (predicted == y).sum().item()\n",
    "                \n",
    "        #print(f\"Epoch {epoch}, Accuracy: {correct / total}\")\n",
    "        if print_accs:\n",
    "            print(f\"Epoch {epoch}, Training Accuracy: {traing_accs[-1]}, Validation Accuracy: {correct / total}\")\n",
    "        \n",
    "        test_accs.append(correct / total)\n",
    "        # Do not forget to use model.train() and model.eval() before training and evaluation loops respectively.\n",
    "    return traing_accs, test_accs\n",
    "    "
   ]
  },
  {
   "cell_type": "code",
   "execution_count": 7,
   "metadata": {},
   "outputs": [
    {
     "name": "stdout",
     "output_type": "stream",
     "text": [
      "Epoch 1, Training Accuracy: 0.9693666666666667, Validation Accuracy: 0.9737\n",
      "Epoch 2, Training Accuracy: 0.9829, Validation Accuracy: 0.9839\n",
      "Epoch 3, Training Accuracy: 0.9849166666666667, Validation Accuracy: 0.9844\n",
      "Epoch 4, Training Accuracy: 0.9880333333333333, Validation Accuracy: 0.9865\n",
      "Epoch 5, Training Accuracy: 0.9899333333333333, Validation Accuracy: 0.9892\n"
     ]
    }
   ],
   "source": [
    "#train the teacher model\n",
    "traing_accs, test_accs = train_model(teacher_model, train_loader, test_loader, teacher_optimizer, teacher_loss, 5)"
   ]
  },
  {
   "cell_type": "code",
   "execution_count": 8,
   "metadata": {},
   "outputs": [],
   "source": [
    "#Create a new dataset with the teacher model predictions\n",
    "teacher_model.eval()\n",
    "teacher_input = []\n",
    "teacher_predicted_probailities = []\n",
    "with torch.no_grad():\n",
    "    for X, y in train_loader:\n",
    "        y_pred = teacher_model(X)\n",
    "        teacher_input.append(X)\n",
    "        teacher_predicted_probailities.append(y_pred)\n",
    "        \n",
    "teacher_input = torch.cat(teacher_input)\n",
    "teacher_predicted_probailities = torch.cat(teacher_predicted_probailities)"
   ]
  },
  {
   "cell_type": "code",
   "execution_count": 9,
   "metadata": {},
   "outputs": [],
   "source": [
    "#create new dataset\n",
    "teacher_dataset = torch.utils.data.TensorDataset(teacher_input, teacher_predicted_probailities)\n",
    "teacher_loader = torch.utils.data.DataLoader(teacher_dataset, batch_size=100, shuffle=True)"
   ]
  },
  {
   "cell_type": "code",
   "execution_count": 10,
   "metadata": {},
   "outputs": [
    {
     "data": {
      "image/png": "[encoded data removed]",
      "text/plain": [
       "<Figure size 640x480 with 1 Axes>"
      ]
     },
     "metadata": {},
     "output_type": "display_data"
    }
   ],
   "source": [
    "#plot the first image\n",
    "plt.imshow(teacher_input[0].squeeze().numpy(), cmap='gray')\n",
    "plt.show()"
   ]
  },
  {
   "cell_type": "code",
   "execution_count": 11,
   "metadata": {},
   "outputs": [
    {
     "data": {
      "image/png": "[encoded data removed]",
      "text/plain": [
       "<Figure size 640x480 with 1 Axes>"
      ]
     },
     "metadata": {},
     "output_type": "display_data"
    }
   ],
   "source": [
    "#plot the first image probabilities\n",
    "plt.bar(range(10), teacher_predicted_probailities[0].numpy())\n",
    "plt.xlabel('Digit')\n",
    "plt.ylabel('Probability')\n",
    "plt.show()"
   ]
  },
  {
   "cell_type": "code",
   "execution_count": 12,
   "metadata": {},
   "outputs": [],
   "source": [
    "#create student model\n",
    "student_model = Teacher_CNN()\n",
    "student_optimizer = optim.Adam(student_model.parameters(), lr=0.001)\n",
    "student_loss = nn.CrossEntropyLoss()"
   ]
  },
  {
   "cell_type": "code",
   "execution_count": 13,
   "metadata": {},
   "outputs": [],
   "source": [
    "def train_model_student(model, train_dataloader, test_dataloader, optimizer, loss_fn, num_epochs, CUDA=False, print_accs=True):\n",
    "\n",
    "    traing_accs = []\n",
    "    test_accs = []\n",
    "\n",
    "    for epoch in range(1, num_epochs+1):\n",
    "        \n",
    "        model.train()\n",
    "        # Write training loop here\n",
    "        for i, (X, y) in enumerate(train_dataloader):\n",
    "            \n",
    "            if CUDA:\n",
    "                X = X.cuda()\n",
    "                y = y.cuda()\n",
    "\n",
    "            optimizer.zero_grad()\n",
    "            y_pred = model(X)\n",
    "            \n",
    "            loss = loss_fn(y_pred, y)\n",
    "            \n",
    "            loss.backward()\n",
    "            optimizer.step()\n",
    "\n",
    "        # Write evaluation loop(s) here\n",
    "        \n",
    "        # Calculate training accuracy\n",
    "        model.eval()\n",
    "        correct = 0\n",
    "        total = 0\n",
    "        with torch.no_grad():\n",
    "            for X, y in train_dataloader:\n",
    "                if CUDA:\n",
    "                    X = X.cuda()\n",
    "                    y = y.cuda()\n",
    "\n",
    "                y_pred = model(X)\n",
    "                \n",
    "                _, predicted = torch.max(y_pred.data, 1)\n",
    "                _, true_classes = torch.max(y, dim=1)\n",
    "                \n",
    "                total += y.size(0)\n",
    "                correct += (predicted == true_classes).sum().item()\n",
    "                \n",
    "        #print(f\"Epoch {epoch}, Training Accuracy: {correct / total}\")\n",
    "        traing_accs.append(correct / total)\n",
    "        \n",
    "        # Calculate test accuracy\n",
    "        model.eval()\n",
    "        correct = 0\n",
    "        total = 0\n",
    "        with torch.no_grad():\n",
    "            for X, y in test_dataloader:\n",
    "                if CUDA:\n",
    "                    X = X.cuda()\n",
    "                    y = y.cuda()\n",
    "\n",
    "                y_pred = model(X)\n",
    "                \n",
    "                _, predicted = torch.max(y_pred.data, 1)\n",
    "                \n",
    "                total += y.size(0)\n",
    "                correct += (predicted == y).sum().item()\n",
    "                \n",
    "        #print(f\"Epoch {epoch}, Accuracy: {correct / total}\")\n",
    "        if print_accs:\n",
    "            print(f\"Epoch {epoch}, Training Accuracy: {traing_accs[-1]}, Validation Accuracy: {correct / total}\")\n",
    "        \n",
    "        test_accs.append(correct / total)\n",
    "        # Do not forget to use model.train() and model.eval() before training and evaluation loops respectively.\n",
    "    return traing_accs, test_accs\n",
    "    "
   ]
  },
  {
   "cell_type": "code",
   "execution_count": 14,
   "metadata": {},
   "outputs": [
    {
     "name": "stdout",
     "output_type": "stream",
     "text": [
      "tensor([[0.9116, 0.8512],\n",
      "        [0.9764, 0.7353],\n",
      "        [0.6192, 0.9409],\n",
      "        [0.0120, 0.9613],\n",
      "        [0.4433, 0.8698],\n",
      "        [0.9519, 0.2451],\n",
      "        [0.8287, 0.7020],\n",
      "        [0.5307, 0.4282],\n",
      "        [0.3262, 0.2561],\n",
      "        [0.2428, 0.6277]])\n",
      "tensor([0.9116, 0.9764, 0.9409, 0.9613, 0.8698, 0.9519, 0.8287, 0.5307, 0.3262,\n",
      "        0.6277]) tensor([0, 0, 1, 1, 1, 0, 0, 0, 0, 1])\n"
     ]
    }
   ],
   "source": [
    "#create random tensor\n",
    "random_tensor = torch.rand(10, 2)\n",
    "print(random_tensor)\n",
    "a, b = torch.max(random_tensor, 1)\n",
    "\n",
    "print(a,b)"
   ]
  },
  {
   "cell_type": "code",
   "execution_count": 15,
   "metadata": {},
   "outputs": [
    {
     "name": "stdout",
     "output_type": "stream",
     "text": [
      "Epoch 1, Training Accuracy: 0.9774666666666667, Validation Accuracy: 0.9766\n",
      "Epoch 2, Training Accuracy: 0.9782666666666666, Validation Accuracy: 0.972\n",
      "Epoch 3, Training Accuracy: 0.9881333333333333, Validation Accuracy: 0.982\n",
      "Epoch 4, Training Accuracy: 0.9907833333333333, Validation Accuracy: 0.9857\n",
      "Epoch 5, Training Accuracy: 0.9859833333333333, Validation Accuracy: 0.9785\n"
     ]
    }
   ],
   "source": [
    "#train the student model\n",
    "traing_accs, test_accs = train_model_student(student_model, teacher_loader, test_loader, student_optimizer, student_loss, 5)"
   ]
  },
  {
   "cell_type": "code",
   "execution_count": 16,
   "metadata": {},
   "outputs": [],
   "source": [
    "from fgsm import create_fgsm_adversarial_example\n",
    "from fgsm import can_import"
   ]
  },
  {
   "cell_type": "code",
   "execution_count": 19,
   "metadata": {},
   "outputs": [
    {
     "name": "stdout",
     "output_type": "stream",
     "text": [
      "FGSM file can import!\n"
     ]
    }
   ],
   "source": [
    "can_import()"
   ]
  },
  {
   "cell_type": "code",
   "execution_count": 17,
   "metadata": {},
   "outputs": [
    {
     "data": {
      "text/plain": [
       "Text(0.5, 1.0, 'True Label: 5')"
      ]
     },
     "execution_count": 17,
     "metadata": {},
     "output_type": "execute_result"
    },
    {
     "data": {
      "image/png": "[encoded data removed]",
      "text/plain": [
       "<Figure size 640x480 with 1 Axes>"
      ]
     },
     "metadata": {},
     "output_type": "display_data"
    }
   ],
   "source": [
    "#plot the first image from the studnet dataset\n",
    "\n",
    "im = train_loader.dataset[0][0].squeeze().numpy()\n",
    "label = train_loader.dataset[0][1]\n",
    "plt.imshow(im, cmap='gray')\n",
    "plt.title(f'True Label: {label}')"
   ]
  },
  {
   "cell_type": "code",
   "execution_count": 25,
   "metadata": {},
   "outputs": [],
   "source": [
    "def create_fgsm_adversarial_example(model, criterion, X, y, epsilon):\n",
    "    X.requires_grad = True\n",
    "    model.zero_grad()\n",
    "    output = model(X)\n",
    "    model_prediction_unperturbed = output.argmax(dim=1)\n",
    "    prediction_confidence = F.softmax(output, dim=1).max()\n",
    "    loss = criterion(output, y)\n",
    "    loss.backward()\n",
    "    x_grad = X.grad.data\n",
    "    x_adv = X + epsilon * x_grad.sign()\n",
    "    return model_prediction_unperturbed, prediction_confidence, x_adv"
   ]
  },
  {
   "cell_type": "code",
   "execution_count": 74,
   "metadata": {},
   "outputs": [
    {
     "data": {
      "image/png": "[encoded data removed]",
      "text/plain": [
       "<Figure size 640x480 with 1 Axes>"
      ]
     },
     "metadata": {},
     "output_type": "display_data"
    }
   ],
   "source": [
    "#create an adversarial example\n",
    "input_label = train_loader.dataset[1][1]\n",
    "\n",
    "#convert y to tensor\n",
    "y_tensor = torch.tensor([input_label])\n",
    "\n",
    "model_prediction_unperturbed, prediction_confidence, x_adv = create_fgsm_adversarial_example(teacher_model, teacher_loss, train_loader.dataset[1][0], y_tensor, epsilon=0.3)\n",
    "\n",
    "\n",
    "#plot the orginal image\n",
    "plt.imshow(train_loader.dataset[0][0].squeeze().numpy(), cmap='gray')\n",
    "plt.title(f'True Label: {input_label}')\n",
    "plt.show()"
   ]
  },
  {
   "cell_type": "code",
   "execution_count": 75,
   "metadata": {},
   "outputs": [
    {
     "data": {
      "text/plain": [
       "<matplotlib.image.AxesImage at 0x134c32890>"
      ]
     },
     "execution_count": 75,
     "metadata": {},
     "output_type": "execute_result"
    },
    {
     "data": {
      "image/png": "[encoded data removed]",
      "text/plain": [
       "<Figure size 640x480 with 1 Axes>"
      ]
     },
     "metadata": {},
     "output_type": "display_data"
    }
   ],
   "source": [
    "#plot the adversarial image\n",
    "plt.imshow(x_adv.squeeze().detach().numpy(), cmap='gray')"
   ]
  },
  {
   "cell_type": "code",
   "execution_count": 76,
   "metadata": {},
   "outputs": [
    {
     "name": "stdout",
     "output_type": "stream",
     "text": [
      "torch.Size([1, 28, 28])\n"
     ]
    }
   ],
   "source": [
    "print(x_adv.shape)"
   ]
  },
  {
   "cell_type": "code",
   "execution_count": 77,
   "metadata": {},
   "outputs": [
    {
     "data": {
      "image/png": "[encoded data removed]",
      "text/plain": [
       "<Figure size 640x480 with 1 Axes>"
      ]
     },
     "metadata": {},
     "output_type": "display_data"
    },
    {
     "data": {
      "image/png": "[encoded data removed]",
      "text/plain": [
       "<Figure size 640x480 with 1 Axes>"
      ]
     },
     "metadata": {},
     "output_type": "display_data"
    }
   ],
   "source": [
    "#make a prediction on the orginal image\n",
    "teacher_output = teacher_model(x_adv)\n",
    "#apply softmax\n",
    "teacher_output = F.softmax(teacher_output, dim=1)\n",
    "#convert to numpy array\n",
    "teacher_output = teacher_output.detach().numpy()\n",
    "#plot student output\n",
    "plt.bar(range(10), teacher_output[0])\n",
    "plt.xlabel('Digit')\n",
    "plt.ylabel('Probability')\n",
    "plt.title(\"Teacher Model predicted probalities\")\n",
    "plt.show()\n",
    "\n",
    "student_output = student_model(x_adv)\n",
    "# apply softmax\n",
    "student_output = F.softmax(student_output, dim=1)\n",
    "# convert to numpy array\n",
    "student_output = student_output.detach().numpy()\n",
    "\n",
    "# plot student output\n",
    "plt.bar(range(10), student_output[0])\n",
    "plt.xlabel('Digit')\n",
    "plt.ylabel('Probability')\n",
    "plt.title(\"Student Model predicted probalities\")\n",
    "plt.show()\n"
   ]
  },
  {
   "cell_type": "code",
   "execution_count": null,
   "metadata": {},
   "outputs": [],
   "source": []
  }
 ],
 "metadata": {
  "kernelspec": {
   "display_name": "mlma",
   "language": "python",
   "name": "python3"
  },
  "language_info": {
   "codemirror_mode": {
    "name": "ipython",
    "version": 3
   },
   "file_extension": ".py",
   "mimetype": "text/x-python",
   "name": "python",
   "nbconvert_exporter": "python",
   "pygments_lexer": "ipython3",
   "version": "3.10.12"
  }
 },
 "nbformat": 4,
 "nbformat_minor": 2
}
