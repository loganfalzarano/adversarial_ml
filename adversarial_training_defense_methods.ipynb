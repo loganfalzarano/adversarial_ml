{
 "cells": [
  {
   "cell_type": "code",
   "execution_count": 1,
   "metadata": {},
   "outputs": [],
   "source": [
    "import numpy as np\n",
    "import matplotlib.pyplot as plt\n",
    "import torch\n",
    "import torch.nn as nn\n",
    "import torch.nn.functional as F\n",
    "import torch.optim as optim\n",
    "from torchvision import transforms,datasets"
   ]
  },
  {
   "cell_type": "code",
   "execution_count": 2,
   "metadata": {},
   "outputs": [],
   "source": [
    "device = torch.device(\"mps\" if torch.backends.mps.is_available() else \"cuda\")"
   ]
  },
  {
   "cell_type": "code",
   "execution_count": 3,
   "metadata": {},
   "outputs": [],
   "source": [
    "from torchvision import datasets, transforms\n",
    "from torch.utils.data import DataLoader\n",
    "\n",
    "mnist_train = datasets.MNIST(\"../data\", train=True, download=True, transform=transforms.ToTensor())\n",
    "mnist_test = datasets.MNIST(\"../data\", train=False, download=True, transform=transforms.ToTensor())\n",
    "train_loader = DataLoader(mnist_train, batch_size = 100, shuffle=True)\n",
    "test_loader = DataLoader(mnist_test, batch_size = 100, shuffle=False)"
   ]
  },
  {
   "cell_type": "code",
   "execution_count": 4,
   "metadata": {},
   "outputs": [],
   "source": [
    "class Flatten(nn.Module):\n",
    "    def forward(self, x):\n",
    "        return x.view(x.shape[0], -1)    \n",
    "\n",
    "model_dnn_2 = nn.Sequential(Flatten(), nn.Linear(784,200), nn.ReLU(), \n",
    "                            nn.Linear(200,10)).to(device)\n",
    "\n",
    "model_dnn_4 = nn.Sequential(Flatten(), nn.Linear(784,200), nn.ReLU(), \n",
    "                            nn.Linear(200,100), nn.ReLU(),\n",
    "                            nn.Linear(100,100), nn.ReLU(),\n",
    "                            nn.Linear(100,10)).to(device)\n",
    "\n",
    "model_cnn = nn.Sequential(nn.Conv2d(1, 32, 3, padding=1), nn.ReLU(),\n",
    "                          nn.Conv2d(32, 32, 3, padding=1, stride=2), nn.ReLU(),\n",
    "                          nn.Conv2d(32, 64, 3, padding=1), nn.ReLU(),\n",
    "                          nn.Conv2d(64, 64, 3, padding=1, stride=2), nn.ReLU(),\n",
    "                          Flatten(),\n",
    "                          nn.Linear(7*7*64, 100), nn.ReLU(),\n",
    "                          nn.Linear(100, 10)).to(device)"
   ]
  },
  {
   "cell_type": "code",
   "execution_count": 5,
   "metadata": {},
   "outputs": [],
   "source": [
    "#attack methods from before\n",
    "def fgsm(model, X, y, epsilon=0.1):\n",
    "    \"\"\" Construct FGSM adversarial examples on the examples X\"\"\"\n",
    "    delta = torch.zeros_like(X, requires_grad=True)\n",
    "    loss = nn.CrossEntropyLoss()(model(X + delta), y)\n",
    "    loss.backward()\n",
    "    return epsilon * delta.grad.detach().sign()\n",
    "\n",
    "def pgd_linf(model, X, y, epsilon=0.1, alpha=0.01, num_iter=20, randomize=False):\n",
    "    \"\"\" Construct FGSM adversarial examples on the examples X\"\"\"\n",
    "    if randomize:\n",
    "        delta = torch.rand_like(X, requires_grad=True)\n",
    "        delta.data = delta.data * 2 * epsilon - epsilon\n",
    "    else:\n",
    "        delta = torch.zeros_like(X, requires_grad=True)\n",
    "        \n",
    "    for t in range(num_iter):\n",
    "        loss = nn.CrossEntropyLoss()(model(X + delta), y)\n",
    "        loss.backward()\n",
    "        delta.data = (delta + alpha*delta.grad.detach().sign()).clamp(-epsilon,epsilon)\n",
    "        delta.grad.zero_()\n",
    "    return delta.detach()"
   ]
  },
  {
   "cell_type": "code",
   "execution_count": 6,
   "metadata": {},
   "outputs": [],
   "source": [
    "def epoch(loader, model, opt=None):\n",
    "    \"\"\"Standard training/evaluation epoch over the dataset\"\"\"\n",
    "    total_loss, total_err = 0.,0.\n",
    "    for X,y in loader:\n",
    "        X,y = X.to(device), y.to(device)\n",
    "        yp = model(X)\n",
    "        loss = nn.CrossEntropyLoss()(yp,y)\n",
    "        if opt:\n",
    "            opt.zero_grad()\n",
    "            loss.backward()\n",
    "            opt.step()\n",
    "        \n",
    "        total_err += (yp.max(dim=1)[1] != y).sum().item()\n",
    "        total_loss += loss.item() * X.shape[0]\n",
    "    return total_err / len(loader.dataset), total_loss / len(loader.dataset)\n",
    "\n",
    "\n",
    "def epoch_adversarial(loader, model, attack, opt=None, **kwargs):\n",
    "    \"\"\"Adversarial training/evaluation epoch over the dataset\"\"\"\n",
    "    total_loss, total_err = 0.,0.\n",
    "    for X,y in loader:\n",
    "        X,y = X.to(device), y.to(device)\n",
    "        delta = attack(model, X, y, **kwargs)\n",
    "        yp = model(X+delta)\n",
    "        loss = nn.CrossEntropyLoss()(yp,y)\n",
    "        if opt:\n",
    "            opt.zero_grad()\n",
    "            loss.backward()\n",
    "            opt.step()\n",
    "        \n",
    "        total_err += (yp.max(dim=1)[1] != y).sum().item()\n",
    "        total_loss += loss.item() * X.shape[0]\n",
    "    return total_err / len(loader.dataset), total_loss / len(loader.dataset)"
   ]
  },
  {
   "cell_type": "code",
   "execution_count": 8,
   "metadata": {},
   "outputs": [
    {
     "name": "stdout",
     "output_type": "stream",
     "text": [
      "train_err\ttest_err\tadversarial_err\n",
      "0.013967\t0.014300\t0.654700\n",
      "0.010767\t0.013300\t0.686600\n",
      "0.008900\t0.017100\t0.752700\n",
      "0.006867\t0.013500\t0.688300\n",
      "0.006050\t0.011300\t0.720300\n",
      "0.001950\t0.009200\t0.728400\n",
      "0.001250\t0.009500\t0.721200\n",
      "0.001017\t0.009500\t0.718600\n",
      "0.000783\t0.010000\t0.716100\n",
      "0.000767\t0.009900\t0.711400\n"
     ]
    }
   ],
   "source": [
    "#train a standard cnn and evaluate it on the test set\n",
    "\n",
    "opt = optim.SGD(model_cnn.parameters(), lr=1e-1)\n",
    "print(*(i.format(i) for i in (\"train_err\", \"test_err\", \"adversarial_err\")), sep=\"\\t\")\n",
    "for t in range(10):\n",
    "    train_err, train_loss = epoch(train_loader, model_cnn, opt)\n",
    "    test_err, test_loss = epoch(test_loader, model_cnn)\n",
    "    adv_err, adv_loss = epoch_adversarial(test_loader, model_cnn, pgd_linf)\n",
    "    if t == 4:\n",
    "        for param_group in opt.param_groups:\n",
    "            param_group[\"lr\"] = 1e-2\n",
    "    print(*(\"{:.6f}\".format(i) for i in (train_err, test_err, adv_err)), sep=\"\\t\")"
   ]
  },
  {
   "cell_type": "code",
   "execution_count": 10,
   "metadata": {},
   "outputs": [],
   "source": [
    "model_cnn_robust = nn.Sequential(nn.Conv2d(1, 32, 3, padding=1), nn.ReLU(),\n",
    "                                 nn.Conv2d(32, 32, 3, padding=1, stride=2), nn.ReLU(),\n",
    "                                 nn.Conv2d(32, 64, 3, padding=1), nn.ReLU(),\n",
    "                                 nn.Conv2d(64, 64, 3, padding=1, stride=2), nn.ReLU(),\n",
    "                                 Flatten(),\n",
    "                                 nn.Linear(7*7*64, 100), nn.ReLU(),\n",
    "                                 nn.Linear(100, 10)).to(device)"
   ]
  },
  {
   "cell_type": "code",
   "execution_count": 11,
   "metadata": {},
   "outputs": [
    {
     "name": "stdout",
     "output_type": "stream",
     "text": [
      "train_err\ttest_err\tadversarial_err\n",
      "0.868917\t0.518300\t0.621600\n",
      "0.176133\t0.023700\t0.071300\n",
      "0.061383\t0.015400\t0.050600\n",
      "0.044467\t0.011600\t0.038500\n",
      "0.035333\t0.011800\t0.036900\n",
      "0.024550\t0.008700\t0.031600\n",
      "0.022917\t0.008400\t0.031200\n",
      "0.021917\t0.008700\t0.030100\n",
      "0.021017\t0.008200\t0.029800\n",
      "0.020500\t0.008300\t0.029400\n"
     ]
    }
   ],
   "source": [
    "opt = optim.SGD(model_cnn_robust.parameters(), lr=1e-1)\n",
    "print(*(i.format(i) for i in (\"train_err\", \"test_err\", \"adversarial_err\")), sep=\"\\t\")\n",
    "for t in range(10):\n",
    "    train_err, train_loss = epoch_adversarial(train_loader, model_cnn_robust, pgd_linf, opt)\n",
    "    test_err, test_loss = epoch(test_loader, model_cnn_robust)\n",
    "    adv_err, adv_loss = epoch_adversarial(test_loader, model_cnn_robust, pgd_linf)\n",
    "    if t == 4:\n",
    "        for param_group in opt.param_groups:\n",
    "            param_group[\"lr\"] = 1e-2\n",
    "    print(*(\"{:.6f}\".format(i) for i in (train_err, test_err, adv_err)), sep=\"\\t\")\n",
    "torch.save(model_cnn_robust.state_dict(), \"model_cnn_robust.pt\")"
   ]
  },
  {
   "cell_type": "code",
   "execution_count": 12,
   "metadata": {},
   "outputs": [
    {
     "name": "stdout",
     "output_type": "stream",
     "text": [
      "FGSM:  0.0272\n",
      "PGD, 40 iter:  0.0295\n",
      "PGD, small_alpha:  0.0295\n",
      "PGD, randomized:  0.0295\n"
     ]
    }
   ],
   "source": [
    "print(\"FGSM: \", epoch_adversarial(test_loader, model_cnn_robust, fgsm)[0])\n",
    "print(\"PGD, 40 iter: \", epoch_adversarial(test_loader, model_cnn_robust, pgd_linf, num_iter=40)[0])\n",
    "print(\"PGD, small_alpha: \", epoch_adversarial(test_loader, model_cnn_robust, pgd_linf, num_iter=40, alpha=0.05)[0])\n",
    "print(\"PGD, randomized: \", epoch_adversarial(test_loader, model_cnn_robust, pgd_linf, \n",
    "                                             num_iter=40, randomize=True)[0])"
   ]
  },
  {
   "cell_type": "code",
   "execution_count": null,
   "metadata": {},
   "outputs": [],
   "source": []
  }
 ],
 "metadata": {
  "kernelspec": {
   "display_name": "mlma",
   "language": "python",
   "name": "python3"
  },
  "language_info": {
   "codemirror_mode": {
    "name": "ipython",
    "version": 3
   },
   "file_extension": ".py",
   "mimetype": "text/x-python",
   "name": "python",
   "nbconvert_exporter": "python",
   "pygments_lexer": "ipython3",
   "version": "3.10.12"
  }
 },
 "nbformat": 4,
 "nbformat_minor": 2
}
